{
 "cells": [
  {
   "cell_type": "markdown",
   "id": "dcf16071-71fc-4838-a9da-0f2b232fba90",
   "metadata": {},
   "source": [
    "# 基本运算符\n",
    "\n",
    "运算符是Python中的符号，用于进行特定的计算或操作。运算符所操作的值或条件被称为运算数。运算数可以是一个变量，如 `jan_precip_in`，其中有一些值(比如`0.70`) 或数据结构，如一个包含月份的列表。操作数也可以是一个条件表达式或语句。\n",
    "\n",
    "例如，你可以检查列表中的月份是否包含一月的值。如果列表中包含`January`，检查的结果是`True`（January确实存在于月份列表中）。如果不包含`January`，则返回`False`（January不存在于月份列表中）。Python中有[许多不同类型的运算符](https://python-reference.readthedocs.io/en/latest/docs/operators/)，包括：`Arithmetic`、`Assignment`、`Comparison or Relational`、`Identity`、`Membership`和`Logical`"
   ]
  },
  {
   "cell_type": "markdown",
   "id": "9ced9ad3-3c28-494a-9a00-ef6cca3980c5",
   "metadata": {},
   "source": [
    "## 1. Python中的算术运算符\n",
    "\n",
    "在Python中，可以完成许多算术运算，包括以下运算符：\n",
    "\n",
    "- addition (`+`)\n",
    "- subtraction (`-`)\n",
    "- multiplication (`*`)\n",
    "- division (`/`)\n",
    "- exponents (`**`)\n",
    "\n",
    "尝试一下吧："
   ]
  },
  {
   "cell_type": "code",
   "execution_count": 1,
   "id": "707eccb4-18b0-4dc1-8fd8-a2ee83a84bf3",
   "metadata": {},
   "outputs": [
    {
     "data": {
      "text/plain": [
       "5"
      ]
     },
     "execution_count": 1,
     "metadata": {},
     "output_type": "execute_result"
    }
   ],
   "source": [
    "#Add two values\n",
    "a = 2\n",
    "b = 3\n",
    "a + b"
   ]
  },
  {
   "cell_type": "code",
   "execution_count": 2,
   "id": "9c3c7975-73af-4bae-b8e6-921f91f737b7",
   "metadata": {},
   "outputs": [
    {
     "data": {
      "text/plain": [
       "8"
      ]
     },
     "execution_count": 2,
     "metadata": {},
     "output_type": "execute_result"
    }
   ],
   "source": [
    "#Exponents\n",
    "a ** b"
   ]
  },
  {
   "cell_type": "markdown",
   "id": "ae6eae3d-7a95-4212-bf82-d49391eb4ac6",
   "metadata": {},
   "source": [
    "## 2. Python中的赋值运算符\n",
    "\n",
    "如果想为计算结果分配一个新值，可以使用一个赋值运算符，它将算术运算符（例如`*`）与赋值`=`相结合来设置一个新值。例如，我们可以组合 `*` 和 `=` 乘以一个值，并将结果设置为等于它本身加上新值。"
   ]
  },
  {
   "cell_type": "code",
   "execution_count": 3,
   "id": "ee996fb2-031b-44d6-bf0d-ce82abdaedcf",
   "metadata": {},
   "outputs": [
    {
     "data": {
      "text/plain": [
       "17.779999999999998"
      ]
     },
     "execution_count": 3,
     "metadata": {},
     "output_type": "execute_result"
    }
   ],
   "source": [
    "jan_precip = 0.70\n",
    "inches_to_mm = 25.4\n",
    "jan_precip *= inches_to_mm\n",
    "jan_precip"
   ]
  },
  {
   "cell_type": "markdown",
   "id": "87c01b18-d925-4980-a3d5-60d56f936d66",
   "metadata": {},
   "source": [
    "回想上一课中，还使用了赋值运算符将项目附加到列表的末尾。当列表包含字符串时，此方法有效。这是加法赋值运算符的一种特殊情况，`+=`因为它实际上并没有完成对列表的数学运算。它只是将值作为新项目附加到列表的末尾。"
   ]
  },
  {
   "cell_type": "code",
   "execution_count": 4,
   "id": "28ac1901-886e-44d0-b482-689ae057d104",
   "metadata": {},
   "outputs": [
    {
     "data": {
      "text/plain": [
       "['January', 'February', 'March', 'April']"
      ]
     },
     "execution_count": 4,
     "metadata": {},
     "output_type": "execute_result"
    }
   ],
   "source": [
    "months = [\"January\", \"February\"]\n",
    "months += [\"March\", \"April\"]\n",
    "months"
   ]
  },
  {
   "cell_type": "markdown",
   "id": "c0a926ae-4d51-4496-9732-d42e7aedd1d4",
   "metadata": {},
   "source": [
    "但是，并非所有赋值运算符都可以用于所有对象类型。例如，以下代码将导致错误，因为Python不知道如何处理重新分配列表中的每个值。"
   ]
  },
  {
   "cell_type": "code",
   "execution_count": 5,
   "id": "4ed4237f-e01e-4e1a-a33a-01f50b45723b",
   "metadata": {},
   "outputs": [
    {
     "ename": "TypeError",
     "evalue": "can't multiply sequence by non-int of type 'float'",
     "output_type": "error",
     "traceback": [
      "\u001b[1;31m---------------------------------------------------------------------------\u001b[0m",
      "\u001b[1;31mTypeError\u001b[0m                                 Traceback (most recent call last)",
      "\u001b[1;32m~\\AppData\\Local\\Temp/ipykernel_8560/4286785261.py\u001b[0m in \u001b[0;36m<module>\u001b[1;34m\u001b[0m\n\u001b[0;32m      1\u001b[0m \u001b[0mboulder_precip_in\u001b[0m \u001b[1;33m=\u001b[0m \u001b[1;33m[\u001b[0m\u001b[1;36m0.70\u001b[0m\u001b[1;33m,\u001b[0m \u001b[1;36m0.75\u001b[0m\u001b[1;33m,\u001b[0m \u001b[1;36m1.85\u001b[0m\u001b[1;33m]\u001b[0m\u001b[1;33m\u001b[0m\u001b[1;33m\u001b[0m\u001b[0m\n\u001b[1;32m----> 2\u001b[1;33m \u001b[0mboulder_precip_in\u001b[0m \u001b[1;33m*=\u001b[0m \u001b[1;36m25.4\u001b[0m\u001b[1;33m\u001b[0m\u001b[1;33m\u001b[0m\u001b[0m\n\u001b[0m",
      "\u001b[1;31mTypeError\u001b[0m: can't multiply sequence by non-int of type 'float'"
     ]
    }
   ],
   "source": [
    "boulder_precip_in = [0.70, 0.75, 1.85]\n",
    "boulder_precip_in *= 25.4"
   ]
  },
  {
   "cell_type": "markdown",
   "id": "cebc1551-e1fa-43b9-a40f-278719215e21",
   "metadata": {},
   "source": [
    "**注**算术赋值运算符的输出不会自动打印。如只调用变量名（例如`a`, `jan_precip`, `b`），只会看到最后一个变量的值。"
   ]
  },
  {
   "cell_type": "code",
   "execution_count": 6,
   "id": "9cdf571c-9d5b-457b-9ff3-74c11ab18c4a",
   "metadata": {},
   "outputs": [
    {
     "data": {
      "text/plain": [
       "3"
      ]
     },
     "execution_count": 6,
     "metadata": {},
     "output_type": "execute_result"
    }
   ],
   "source": [
    "a\n",
    "jan_precip\n",
    "b"
   ]
  },
  {
   "cell_type": "markdown",
   "id": "5fb69abd-8ecd-41da-913f-f81d30b59b04",
   "metadata": {},
   "source": [
    "这时使用 `print（）` 语句会很有帮助，这样可以打印多个值"
   ]
  },
  {
   "cell_type": "code",
   "execution_count": 7,
   "id": "9181776c-ef99-41d5-9175-2b2327b68aee",
   "metadata": {},
   "outputs": [
    {
     "name": "stdout",
     "output_type": "stream",
     "text": [
      "2\n",
      "17.779999999999998\n",
      "3\n"
     ]
    }
   ],
   "source": [
    "print(a)\n",
    "print(jan_precip)\n",
    "print(b)"
   ]
  },
  {
   "cell_type": "markdown",
   "id": "8271c7f5-cde6-415b-b4c1-f6635feb272e",
   "metadata": {},
   "source": [
    "## 3. Python 中的关系运算符\n",
    "\n",
    "在Python中，我们经常需要将两个值相互比较。要做到这一点，可以检查一个语句，如`3 < 4`，并从**Python**中得到两个值中的一个返回`True` 或 `False`。这些被称为布尔值，在脚本工作流程中可是非常强大的。布尔值是一个要么是1（真），要么是0（假）的值。像**字符串**或**整数**一样，布尔值是它们自己的数据类型。\n",
    "\n",
    "在Python中，有许多可以使用的关系操作，包括以下的运算符:\n",
    "\n",
    "- equal (`==`)\n",
    "- not equal (`!=`)\n",
    "- greater than (`>`)\n",
    "- greater than or equal (`>=`)\n",
    "- less than (`<`)\n",
    "- less than or equal (`<=`)\n",
    "\n",
    "关系运算返回一个布尔值："
   ]
  },
  {
   "cell_type": "code",
   "execution_count": 8,
   "id": "b2f033e0-bc10-4d3b-ae7a-f40fae9e1e5f",
   "metadata": {},
   "outputs": [
    {
     "data": {
      "text/plain": [
       "True"
      ]
     },
     "execution_count": 8,
     "metadata": {},
     "output_type": "execute_result"
    }
   ],
   "source": [
    "#Is the value 3 less then 4?\n",
    "3 < 4"
   ]
  },
  {
   "cell_type": "code",
   "execution_count": 9,
   "id": "48812940-6389-4d07-b38f-732cd4ae6751",
   "metadata": {},
   "outputs": [
    {
     "data": {
      "text/plain": [
       "True"
      ]
     },
     "execution_count": 9,
     "metadata": {},
     "output_type": "execute_result"
    }
   ],
   "source": [
    "#Does 3 equal 3?\n",
    "3 == 3"
   ]
  },
  {
   "cell_type": "code",
   "execution_count": 10,
   "id": "a7d087a2-746a-4956-bbbd-75e342418308",
   "metadata": {},
   "outputs": [
    {
     "data": {
      "text/plain": [
       "True"
      ]
     },
     "execution_count": 10,
     "metadata": {},
     "output_type": "execute_result"
    }
   ],
   "source": [
    "is_greater = (3 > 2)\n",
    "is_greater"
   ]
  },
  {
   "cell_type": "markdown",
   "id": "12343769-552e-4bf6-b7dc-a7fc9fc22d12",
   "metadata": {},
   "source": [
    "## 4. Python中的成员运算符\n",
    "\n",
    "成员运算符，例如`in`，将检查一个项目是否包含另一个项目。这对于字符串、列表或后面的课程中学习的其他数据存储对象（例如数据框）很有用。"
   ]
  },
  {
   "cell_type": "code",
   "execution_count": 11,
   "id": "01d1a8dc-c025-40ba-a830-d190524d3b29",
   "metadata": {},
   "outputs": [],
   "source": [
    "precip = \"Precipitation\""
   ]
  },
  {
   "cell_type": "code",
   "execution_count": 12,
   "id": "000d1cec-8c22-4693-8771-9f78251fa975",
   "metadata": {},
   "outputs": [
    {
     "data": {
      "text/plain": [
       "True"
      ]
     },
     "execution_count": 12,
     "metadata": {},
     "output_type": "execute_result"
    }
   ],
   "source": [
    "#Are the characters `Precip` in the object called precip?\n",
    "\n",
    "\"Precip\" in precip"
   ]
  },
  {
   "cell_type": "code",
   "execution_count": 13,
   "id": "14ba1ab8-2283-49ca-a67a-b2ac2ea9358b",
   "metadata": {},
   "outputs": [
    {
     "data": {
      "text/plain": [
       "True"
      ]
     },
     "execution_count": 13,
     "metadata": {},
     "output_type": "execute_result"
    }
   ],
   "source": [
    "temp_1 = [70, 68, 74]\n",
    "68 in temp_1"
   ]
  },
  {
   "cell_type": "markdown",
   "id": "c3f33eec-3e5c-4418-b2c7-3ce71f76c0fd",
   "metadata": {},
   "source": [
    "## 5. 逻辑运算符\n",
    "\n",
    "逻辑运算符可用于检查布尔值的组合。最常见的逻辑运算符是`and`and`or`。`and`将检查被检查的两个语句是否为真。`True and True`会回来`True`，但`True and False`会回来`False`。`or`将检查被检查的语句之一是否为真,`True or True`会返回`True`,`True or False`也会返回`True`，`False and False`和`False or False`返回False。"
   ]
  },
  {
   "cell_type": "code",
   "execution_count": 14,
   "id": "47aec0a6-1403-47ef-bc30-096c940fa179",
   "metadata": {},
   "outputs": [
    {
     "data": {
      "text/plain": [
       "True"
      ]
     },
     "execution_count": 14,
     "metadata": {},
     "output_type": "execute_result"
    }
   ],
   "source": [
    "#True and True\n",
    "\n",
    "68 in temp_1 and 70 in temp_1"
   ]
  },
  {
   "cell_type": "code",
   "execution_count": 15,
   "id": "460729ea-2c44-432c-93f0-59201f872b44",
   "metadata": {},
   "outputs": [
    {
     "data": {
      "text/plain": [
       "False"
      ]
     },
     "execution_count": 15,
     "metadata": {},
     "output_type": "execute_result"
    }
   ],
   "source": [
    "#True and False\n",
    "\n",
    "68 in temp_1 and 69 in temp_1"
   ]
  },
  {
   "cell_type": "markdown",
   "id": "c091c9aa-6d20-4cfe-91a9-13b0dc0bc845",
   "metadata": {},
   "source": [
    "## 6. 身份运算符\n",
    "\n",
    "一个身份运算符，例如`is`，将检查两个变量是否指代同一个对象。它与 `==` 操作符相似，只是它不仅会检查两个变量的值是否相同，而且会检查它们在 Python 中是否指代完全相同的东西。这是一个微妙的区别，但可以非常有用。"
   ]
  },
  {
   "cell_type": "code",
   "execution_count": 2,
   "id": "8ec02c44-483d-44bf-a917-758722ad76a0",
   "metadata": {},
   "outputs": [],
   "source": [
    "#Create variables to compare\n",
    "\n",
    "temp_1 = [70, 68, 74]\n",
    "\n",
    "temp_2 = [70, 68, 74]"
   ]
  },
  {
   "cell_type": "code",
   "execution_count": 3,
   "id": "aafeff83-85e8-4e4f-9588-745c9ed0e7eb",
   "metadata": {},
   "outputs": [
    {
     "data": {
      "text/plain": [
       "True"
      ]
     },
     "execution_count": 3,
     "metadata": {},
     "output_type": "execute_result"
    }
   ],
   "source": [
    "#reate a new variable called temp_3 from temp_1\n",
    "\n",
    "temp_3 = temp_1\n",
    "\n",
    "#Test that temp_3 the same as temp_1\n",
    "\n",
    "temp_1 is temp_3"
   ]
  },
  {
   "cell_type": "code",
   "execution_count": 4,
   "id": "75abc691-bc2d-4815-b3b0-b6297fe6def6",
   "metadata": {},
   "outputs": [
    {
     "data": {
      "text/plain": [
       "True"
      ]
     },
     "execution_count": 4,
     "metadata": {},
     "output_type": "execute_result"
    }
   ],
   "source": [
    "#While temp_1 and temp_2 contain the same values...\n",
    "\n",
    "temp_1 == temp_2"
   ]
  },
  {
   "cell_type": "code",
   "execution_count": 5,
   "id": "4ebfd004-1f20-476a-91e2-3c39cb023a52",
   "metadata": {},
   "outputs": [
    {
     "data": {
      "text/plain": [
       "False"
      ]
     },
     "execution_count": 5,
     "metadata": {},
     "output_type": "execute_result"
    }
   ],
   "source": [
    "#They have been created independently\n",
    "\n",
    "temp_1 is temp_2"
   ]
  },
  {
   "cell_type": "markdown",
   "id": "66a7a701-5039-4d41-9be8-59a742c36654",
   "metadata": {},
   "source": [
    "通过这个例子，可以很容易地看到 `==` 和 `is` 之间的区别。尽管`temp_1`和`temp_2`包含相同的值，但它们在技术上不是同一个列表。也就是说，它们不是存储在计算机上的同一个内存位置。然而，由于`temp_3`被设置为等于`temp_1`，它们是完全相同的。\n",
    "\n",
    "也可以把 \"是 \"和 \"不是 \"结合起来，检查两个变量是否相同。"
   ]
  },
  {
   "cell_type": "code",
   "execution_count": 6,
   "id": "08d9f676-861e-419c-87fb-00e4c68f8b17",
   "metadata": {},
   "outputs": [
    {
     "data": {
      "text/plain": [
       "True"
      ]
     },
     "execution_count": 6,
     "metadata": {},
     "output_type": "execute_result"
    }
   ],
   "source": [
    "temp_1 is not temp_2"
   ]
  },
  {
   "cell_type": "code",
   "execution_count": 7,
   "id": "f09347dd-5054-4eb0-934e-8bf418f4001c",
   "metadata": {},
   "outputs": [
    {
     "data": {
      "text/plain": [
       "False"
      ]
     },
     "execution_count": 7,
     "metadata": {},
     "output_type": "execute_result"
    }
   ],
   "source": [
    "is_the_same = (temp_1 is temp_2)\n",
    "\n",
    "is_the_same"
   ]
  },
  {
   "cell_type": "markdown",
   "id": "19ca9d23-ab7e-415f-8eb8-f2f5ca0fc057",
   "metadata": {},
   "source": [
    "## 7. 运算符优先级\n",
    "\n",
    "和一般数学运算一样，Python所有运算符都是有优先级的，因此在实际使用的时候要注意，例如上面的例子中，我们不需要括号也能得到一样的结果："
   ]
  },
  {
   "cell_type": "code",
   "execution_count": 9,
   "id": "314bf91c-0ab4-4d03-b4e7-9557c66421f3",
   "metadata": {},
   "outputs": [
    {
     "data": {
      "text/plain": [
       "False"
      ]
     },
     "execution_count": 9,
     "metadata": {},
     "output_type": "execute_result"
    }
   ],
   "source": [
    "is_the_same = temp_1 is temp_2\n",
    "\n",
    "is_the_same"
   ]
  },
  {
   "cell_type": "markdown",
   "id": "d0352e1e-13ff-4e9a-ae87-0757cbf14b82",
   "metadata": {},
   "source": [
    "说明is的优先级是高于=赋值符号的，具体的优先级顺序可以参考Python官方文档：https://docs.python.org/3/reference/expressions.html#operator-precedence\n",
    "\n",
    "如果平时使用的时候觉得查询太麻烦，那就用括号好了。"
   ]
  }
 ],
 "metadata": {
  "kernelspec": {
   "display_name": "Python (tutorial)",
   "language": "python",
   "name": "tutorial"
  },
  "language_info": {
   "codemirror_mode": {
    "name": "ipython",
    "version": 3
   },
   "file_extension": ".py",
   "mimetype": "text/x-python",
   "name": "python",
   "nbconvert_exporter": "python",
   "pygments_lexer": "ipython3",
   "version": "3.9.13"
  }
 },
 "nbformat": 4,
 "nbformat_minor": 5
}

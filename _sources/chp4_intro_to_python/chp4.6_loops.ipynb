{
 "cells": [
  {
   "cell_type": "markdown",
   "id": "9b4af6fc-a334-4f14-8221-87f5a0a665b6",
   "metadata": {},
   "source": [
    "# 循环\n",
    "\n",
    "## 1. 什么是循环及循环的作用\n",
    "\n",
    "循环是按特定顺序反复执行的一系列操作。遵循编码的 DRY (Don’t Repeat Yourself) 原则，循环可以通过用**迭代**替换重复的代码行来帮助我们消除代码中的重复，这意味着我们可以迭代地执行相同的代码行或块，直到它达到指定的终点。\n",
    "\n",
    "例如，下面的行可以被一个循环替换，该循环遍历一个变量名列表并执行`print()`函数，直到它到达列表的末尾："
   ]
  },
  {
   "cell_type": "code",
   "execution_count": 15,
   "id": "c39bae0c-4c23-4282-aa6c-c4279d0d8ce7",
   "metadata": {},
   "outputs": [
    {
     "name": "stdout",
     "output_type": "stream",
     "text": [
      "[1, 2, 3, 4, 5]\n"
     ]
    }
   ],
   "source": [
    "#Create 5 objects\n",
    "list_of_values = [1, 2, 3, 4, 5]\n",
    "#Print each object separately\n",
    "print(list_of_values)"
   ]
  },
  {
   "cell_type": "code",
   "execution_count": 16,
   "id": "ff41202f-c3a6-4be7-9f23-685b33cc840b",
   "metadata": {},
   "outputs": [
    {
     "name": "stdout",
     "output_type": "stream",
     "text": [
      "the current value is: 1\n",
      "the current value is: 2\n",
      "the current value is: 3\n",
      "the current value is: 4\n",
      "the current value is: 5\n"
     ]
    }
   ],
   "source": [
    "#Cycle through each object and print\n",
    "for avalue in list_of_values:\n",
    "    print(\"the current value is:\", avalue)"
   ]
  },
  {
   "cell_type": "markdown",
   "id": "3d93a247-849f-484c-bf74-3a4fa13a1ae6",
   "metadata": {},
   "source": [
    "在Python中，循环有两种主要结构：`while`和`for`. 下面我们将了解每一个以及它们如何帮助我们编写 DRY代码。"
   ]
  },
  {
   "cell_type": "markdown",
   "id": "e1a7b5b1-2b78-4ecf-8e49-e63a303d34fb",
   "metadata": {},
   "source": [
    "## 2. 在 Python 中创建 For 循环\n",
    "\n",
    "`for`循环将为预定义列表中的每个项目迭代执行代码。该列表可以由数值、文件名、文本字符串中的单个字符和数据结构等对象组成。与while（下面讨论的）循环类似，`for`循环后跟冒号`:`用来缩进。\n",
    "\n",
    "`for`循环以单词开头，并且在循环中明确引用了预定义列表。要迭代的列表在`for`循环代码之前定义:"
   ]
  },
  {
   "cell_type": "markdown",
   "id": "d0f71b52-5c5f-4227-9cfc-eabfe8e0927b",
   "metadata": {},
   "source": [
    "```Python\n",
    "item_list = [item_1, item_2, item_3]\n",
    "for i in item_list:\n",
    "    execute some code here\n",
    "```"
   ]
  },
  {
   "cell_type": "markdown",
   "id": "b9496f07-eea5-4bb8-abad-a77f3df88cae",
   "metadata": {},
   "source": [
    "循环有一个占位符（例如`i`），表示列表中的项目。`i`的初始值等于列表中的第一项；当循环遍历列表时，`i`值会更改以保存列表中下一项的值。\n",
    "\n",
    "在下面的第一个示例中，创建了一个包含 4 个非顺序值的列表:"
   ]
  },
  {
   "cell_type": "code",
   "execution_count": 17,
   "id": "b56a1d8e-e8d2-42f4-b598-b305ff0425e2",
   "metadata": {},
   "outputs": [
    {
     "name": "stdout",
     "output_type": "stream",
     "text": [
      "22\n",
      "15\n",
      "146\n",
      "57\n"
     ]
    }
   ],
   "source": [
    "#Create list of integers\n",
    "num_list = [12, 5, 136, 47]\n",
    "#For each item in list, add 10 and print new value\n",
    "for i in num_list:\n",
    "    i += 10    \n",
    "    print(i)"
   ]
  },
  {
   "cell_type": "markdown",
   "id": "8e5efacb-f180-4370-b397-32e3cf4c2a44",
   "metadata": {},
   "source": [
    "**占位符随意起的，数字除外。可以被称为`x`，甚至可以是完全不相关的东西，如`banana`**"
   ]
  },
  {
   "cell_type": "markdown",
   "id": "b8ef0cf5-c856-486f-98c2-6ab1cd9114f3",
   "metadata": {},
   "source": [
    "## 3. 在 Python 中创建 While 循环\n",
    "\n",
    "`while`循环用于迭代地执行代码，**直到不再满足预定义的条件**（即产生False的值）。\n",
    "\n",
    "**注**： 循环以while开头，后跟以**冒号**结尾的条件。while语句下方的代码也是**缩进**的。这个缩进很重要，因为它表明代码将作为包含在其中的循环的一部分执行，而不是在循环完成后执行。"
   ]
  },
  {
   "cell_type": "code",
   "execution_count": 21,
   "id": "c19686ac-0f5c-4c71-a120-e2735653da1d",
   "metadata": {},
   "outputs": [
    {
     "name": "stdout",
     "output_type": "stream",
     "text": [
      "1\n",
      "2\n",
      "3\n",
      "4\n",
      "5\n",
      "6\n",
      "7\n",
      "8\n",
      "9\n",
      "10\n"
     ]
    }
   ],
   "source": [
    "#Set x equal to 0\n",
    "x = 0\n",
    "#Add 1 to x until x is no longer less than 10\n",
    "while x < 10:\n",
    "    x += 1\n",
    "    print(x)"
   ]
  },
  {
   "cell_type": "markdown",
   "id": "920168ee-1111-4385-87d7-b5358fe7d9fa",
   "metadata": {},
   "source": [
    "**将上述例子进行小改动，对比一下两者的区别吧**"
   ]
  },
  {
   "cell_type": "code",
   "execution_count": 22,
   "id": "ecc65156-e8ab-449e-9264-368f2dc9474c",
   "metadata": {},
   "outputs": [
    {
     "name": "stdout",
     "output_type": "stream",
     "text": [
      "0\n",
      "1\n",
      "2\n",
      "3\n",
      "4\n",
      "5\n",
      "6\n",
      "7\n",
      "8\n",
      "9\n",
      "Final value: 10\n"
     ]
    }
   ],
   "source": [
    "#Reset x equal to 0\n",
    "x = 0\n",
    "#Add 1 to x until x is no longer less than 10\n",
    "while x < 10:\n",
    "    print(x)    \n",
    "    x += 1\n",
    "print(\"Final value:\", x)"
   ]
  },
  {
   "cell_type": "markdown",
   "id": "49d9a372-a05e-4590-bf43-b04bbd076cb6",
   "metadata": {},
   "source": [
    "除了使用比较运算符来比较值之外，我们还可以指定一个值范围来限制`while`循环的持续时间。范围包括起始值，但不包括结束值。"
   ]
  },
  {
   "cell_type": "code",
   "execution_count": 23,
   "id": "98781ac6-e8b9-4cb4-bb9e-3c90c68ac3c5",
   "metadata": {},
   "outputs": [
    {
     "name": "stdout",
     "output_type": "stream",
     "text": [
      "2\n",
      "3\n",
      "4\n",
      "5\n"
     ]
    }
   ],
   "source": [
    "#Set x equal to 1\n",
    "x = 1\n",
    "#Add 1 to x, while x is between 1 and 5\n",
    "while x in range(1, 5):\n",
    "    x += 1  \n",
    "    print(x)"
   ]
  },
  {
   "cell_type": "markdown",
   "id": "b5b7c521-471e-4158-b427-9d1db80f00c5",
   "metadata": {},
   "source": [
    "## 4 列表生成式"
   ]
  },
  {
   "cell_type": "code",
   "execution_count": 1,
   "id": "88884536-916f-4051-a53b-ff40cfc8a754",
   "metadata": {},
   "outputs": [
    {
     "data": {
      "text/plain": [
       "[1, 4, 9, 16, 25, 36, 49, 64, 81, 100]"
      ]
     },
     "execution_count": 1,
     "metadata": {},
     "output_type": "execute_result"
    }
   ],
   "source": [
    "L = []\n",
    "for x in range(1, 11):\n",
    "    L.append(x * x)\n",
    "L"
   ]
  },
  {
   "cell_type": "markdown",
   "id": "7b4259c8-3214-423d-b1f9-1fc5ce8cef31",
   "metadata": {},
   "source": [
    "但是循环太繁琐，而**列表生成式**则可以用一行语句代替循环生成上面的list："
   ]
  },
  {
   "cell_type": "code",
   "execution_count": 2,
   "id": "848de166-41f3-4949-9c72-50837a924187",
   "metadata": {},
   "outputs": [
    {
     "data": {
      "text/plain": [
       "[1, 4, 9, 16, 25, 36, 49, 64, 81, 100]"
      ]
     },
     "execution_count": 2,
     "metadata": {},
     "output_type": "execute_result"
    }
   ],
   "source": [
    "[x * x for x in range(1, 11)]"
   ]
  },
  {
   "cell_type": "markdown",
   "id": "f08fa002-f553-41f1-a997-75e33d9dae99",
   "metadata": {},
   "source": [
    "这种写法就是Python特有的列表生成式。利用列表生成式，可以以非常简洁的代码生成 list。\n",
    "\n",
    "写列表生成式时，把要生成的元素 x * x 放到前面，后面跟 for 循环，就可以把list创建出来，十分有用，多写几次，很快就可以熟悉这种语法。"
   ]
  }
 ],
 "metadata": {
  "kernelspec": {
   "display_name": "Python (tutorial)",
   "language": "python",
   "name": "tutorial"
  },
  "language_info": {
   "codemirror_mode": {
    "name": "ipython",
    "version": 3
   },
   "file_extension": ".py",
   "mimetype": "text/x-python",
   "name": "python",
   "nbconvert_exporter": "python",
   "pygments_lexer": "ipython3",
   "version": "3.9.13"
  }
 },
 "nbformat": 4,
 "nbformat_minor": 5
}

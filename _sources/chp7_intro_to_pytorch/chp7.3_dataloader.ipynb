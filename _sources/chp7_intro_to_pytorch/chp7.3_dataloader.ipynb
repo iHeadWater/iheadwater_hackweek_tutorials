{
 "cells": [
  {
   "cell_type": "markdown",
   "id": "9ce9aad7-3e0a-42f8-9cf0-ede8aeb0c5e4",
   "metadata": {},
   "source": [
    "# Dataset和DataLoader简介\n",
    "\n",
    "在使用Pytorch构建和训练模型的过程中，经常需要把原始数据（文本格式数据等）转换为张量的格式，这时pytorch的数据导入功能便能发挥作用。\n",
    "\n",
    "Pytorch导入数据主要依靠 torch.utils.data.DataLoader和 torch.utils.data.Dataset这两个类来完成，并采用以下步骤完成最终的数据读取。\n",
    "\n",
    "## 1 pytorch输入数据pipline“三步走”策略\n",
    "\n",
    "这里主要引用了这篇blog的内容：https://blog.csdn.net/loveliuzz/article/details/108756253\n",
    "\n",
    "一般pytorch的数据加载到模型的操作顺序如下：\n",
    "\n",
    "1. 创建一个 Dataset 对象，必须实现 \\_\\_len\\_\\_() ，\\_\\_getitem\\_\\_() 两个方法；\n",
    "2. 创建一个 DataLoader 对象，对 Dataset 对象进行迭代的，一般不需要事先实现里面其他方法了；\n",
    "3. 循环遍历DataLoader对象，将样本数据加载到模型中训练。\n",
    "\n",
    "注：Dataset、DataLoader 均在 torch.utils.data 中定义，使用它们的时候代码会有如下形式："
   ]
  },
  {
   "cell_type": "markdown",
   "id": "dbbfa2b5-5d93-4b56-aadf-50e040cbe650",
   "metadata": {},
   "source": [
    "```python\n",
    "from torch.utils.data.dataset import Dataset\n",
    "from torch.utils.data.dataloader import DataLoader\n",
    " \n",
    "dataset = MyDataset() # 第一步：构建 Dataset 对象\n",
    "dataloader = DataLoader(dataset) # 第二步：通过Dataloader来构建迭代对象\n",
    " \n",
    "num_epoches = 100\n",
    "for epoch in range(num_epoches):\n",
    "    for i, data in enumerate(dataloader):\n",
    "        # 训练代码\n",
    "```\n",
    "        "
   ]
  },
  {
   "cell_type": "markdown",
   "id": "b0e82054-4158-4878-99dc-224121bc49b3",
   "metadata": {},
   "source": [
    "数据集遍历一般化流程：\n",
    "\n",
    "![](../img/pytorch_data2.png)\n",
    "\n",
    "for i, data in enumerate(dataloader):  会调用dataloader 的 __iter__() 方法，产生了一个DataLoaderIter（迭代器），这里判断使用单线程还是多线程，调用 DataLoaderIter 的 __next__() 方法来得到 batch data 。在__next__() 方法中使用 __next_index()方法调用sampler（采样器）获得index索引，接着通过 Dataset_fetcher 的 fetch() 方法根据index（索引）调用dataset的 __getitem__() 方法，然后用 collate_fn 把它们打包成batch。当数据读完后， __next__() 抛出一个 StopIteration 异常，for循环结束，dataloader 失效。\n",
    "\n",
    "\n",
    "## 2 Dataset\n",
    "\n",
    "torch.utils.data.Dataset是一个抽象类, 自定义的Dataset需要继承它并且实现两个成员方法:\n",
    "\n",
    "- getitem()\n",
    "- len()\n",
    "\n",
    "第一个最为重要, 即每次怎么读数据，比如对于一个图片："
   ]
  },
  {
   "cell_type": "code",
   "execution_count": 1,
   "id": "2d9d9bb9-c811-435a-82b3-4cec08d6128a",
   "metadata": {},
   "outputs": [],
   "source": [
    "def __getitem__(self, index):\n",
    "    img_path, label = self.data[index].img_path, self.data[index].label\n",
    "    img = Image.open(img_path)\n",
    "\n",
    "    return img, label"
   ]
  },
  {
   "cell_type": "markdown",
   "id": "1ef4322c-5e03-42c2-b44b-ceca8496803f",
   "metadata": {},
   "source": [
    "可以看到，img是模型训练的输入数据，label是模型训练的输出数据。\n",
    "\n",
    "第二个比较简单, 就是返回整个数据集所有样本的个数，比如："
   ]
  },
  {
   "cell_type": "code",
   "execution_count": 2,
   "id": "0be4979a-1d48-4ede-aaa0-250d768d1530",
   "metadata": {},
   "outputs": [],
   "source": [
    "def __len__(self):\n",
    "    return len(self.data)"
   ]
  },
  {
   "cell_type": "markdown",
   "id": "6fd5ad23-fc2c-4267-9bb5-fd5cbd90b0ce",
   "metadata": {},
   "source": [
    "## 3 Dataloader\n",
    "\n",
    "torch.utils.data.DataLoader类定义为:\n",
    "\n",
    "class torch.utils.data.DataLoader(dataset, batch_size=1, shuffle=False, sampler=None, batch_sampler=None, num_workers=0, collate_fn=<function default_collate>, pin_memory=False, drop_last=False)\n",
    "\n",
    "可以看到, 主要参数有这么几个:\n",
    "\n",
    "- dataset : 即上面自定义的dataset.\n",
    "- collate_fn: 这个函数用来打包batch, 后面详细讲.\n",
    "- num_worker: 非常简单的多线程方法, 只要设置为>=1, 就可以多线程预读数据啦.\n",
    "\n",
    "这个类一共干了两件事:\n",
    "\n",
    "定义了一堆成员变量, 到时候赋给torch.utils.data.dataloader.DataLoaderIter 然后有一个iter() 函数, 把自己 \"装进\" DataLoaderIter 里面.\n",
    "\n",
    "def iter(self): return DataLoaderIter(self)\n",
    "\n",
    "首先我们看一下DataLoader.__next__的源代码长什么样,为方便理解我只选取了num_works为0的情况（num_works简单理解就是能够并行化地读取数据）。"
   ]
  },
  {
   "cell_type": "code",
   "execution_count": 3,
   "id": "18585bb9-0d1b-4f63-8c03-c835d978d6c0",
   "metadata": {},
   "outputs": [],
   "source": [
    "class DataLoader(object):\n",
    "    ...\n",
    "    \n",
    "    def __next__(self):\n",
    "        if self.num_workers == 0:  \n",
    "            indices = next(self.sample_iter)  # Sampler\n",
    "            batch = self.collate_fn([self.dataset[i] for i in indices]) # Dataset\n",
    "            if self.pin_memory:\n",
    "                batch = _utils.pin_memory.pin_memory_batch(batch)\n",
    "            return batch"
   ]
  },
  {
   "cell_type": "markdown",
   "id": "56dbeb37-9c85-4dbd-a9c0-a9734878bee3",
   "metadata": {},
   "source": [
    "在阅读上面代码前，我们可以假设我们的数据是一组图像，每一张图像对应一个index，那么如果我们要读取数据就只需要对应的index即可，即上面代码中的indices，而选取index的方式有多种，有按顺序的，也有乱序的，所以这个工作需要Sampler完成，具体的细节如果我们不重写新函数就不用管。\n",
    "\n",
    "然后Dataset和DataLoader在什么时候产生关系呢？就是我们已经拿到了indices，那么下一步我们只需要根据index对数据进行读取即可了。\n",
    "\n",
    "再下面的if语句的作用简单理解就是，如果pin_memory=True,那么Pytorch会采取一系列操作把数据拷贝到GPU，总之就是为了加速。\n",
    "\n",
    "所以有这样的关系图：\n",
    "\n",
    "![](../img/pytorch_data1.jpg)"
   ]
  },
  {
   "cell_type": "markdown",
   "id": "be64637b-2351-4ba9-8551-68e766040424",
   "metadata": {},
   "source": [
    "最后，Dataset和DatasetLoader及数据集切分的基本使用流程如下：\n",
    "\n",
    "![](../img/pytorch_data.png)\n",
    "\n",
    "- Dataset是一个抽象类，需要派生一个子类构造数据集，需要改写的方法有__init__，__getitem__等。\n",
    "- DataLoader是一个迭代器，方便我们访问Dataset里的对象"
   ]
  },
  {
   "cell_type": "markdown",
   "id": "fb94f7fe-369d-464a-a428-324f5df216dc",
   "metadata": {},
   "source": [
    "\n",
    "如果大家对以上内容感兴趣，接下来这里有些根据网上查的资料总结下的dataset，dataloader等的用法可供大家参考。\n",
    "\n",
    "参考资料有：\n",
    "\n",
    "- [Pytorch数据读取(Dataset, DataLoader, DataLoaderIter)](https://zhuanlan.zhihu.com/p/30934236)\n",
    "- [一文弄懂Pytorch的DataLoader, DataSet, Sampler之间的关系](https://www.cnblogs.com/marsggbo/p/11308889.html)"
   ]
  }
 ],
 "metadata": {
  "kernelspec": {
   "display_name": "Python (tutorial)",
   "language": "python",
   "name": "tutorial"
  },
  "language_info": {
   "codemirror_mode": {
    "name": "ipython",
    "version": 3
   },
   "file_extension": ".py",
   "mimetype": "text/x-python",
   "name": "python",
   "nbconvert_exporter": "python",
   "pygments_lexer": "ipython3",
   "version": "3.9.13"
  }
 },
 "nbformat": 4,
 "nbformat_minor": 5
}

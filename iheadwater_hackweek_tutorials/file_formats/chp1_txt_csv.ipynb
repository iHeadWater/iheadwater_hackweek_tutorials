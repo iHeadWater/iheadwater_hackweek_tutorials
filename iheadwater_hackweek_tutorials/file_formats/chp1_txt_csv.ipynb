{
 "cells": [
  {
   "cell_type": "markdown",
   "id": "b6e35cbd-40d0-4466-be44-9db7e7af6257",
   "metadata": {},
   "source": [
    "# 文本类数据\n",
    "\n",
    "文本类（表格式）数据通常是指以行/列格式存储的数据。列（有时是行）通常由标题来标识，如果命名清晰，我们就很容易理解该行或列中的内容。\n",
    "\n",
    "例如我们已经熟悉的.xlsx类型的文件，使用excel我们能打开编辑它们。\n",
    "\n",
    "这里我们来介绍常见的文本格式数据的代码读写，大家跟着做就行了，后续介绍完Python编程基础后，我们会再针对这些内容进一步展开讨论。\n",
    "\n",
    "## .txt\n",
    "\n",
    "我们下载数据时，经常会看到以文件格式存储的表格数据，包括csv、xlsx和txt\n",
    "\n",
    "下面我们看几个例子，比如我们从[GRDC全球径流数据网站](https://portal.grdc.bafg.de/applications/public.html?publicuser=PublicUser#dataDownload/Stations)上选择一个站点，把数据下载下来，这里我们选择了长江流域上的一个小流域杂谷脑（ZAGUNAO）流域。\n",
    "\n",
    "![](../img/zagunao.png)\n",
    "\n",
    "可以申请下载该站点的日径流数据，我们已经下载好了，这里就直接使用了。\n",
    "\n",
    "我们能看到数据格式就是txt格式：\n",
    "\n",
    "![](../img/zagunao_discharge.png)"
   ]
  },
  {
   "cell_type": "code",
   "execution_count": null,
   "id": "eeff42cd-5c55-438b-afd1-8d731fc3fea6",
   "metadata": {
    "collapsed": true,
    "jupyter": {
     "outputs_hidden": true
    },
    "tags": []
   },
   "outputs": [
    {
     "ename": "UnicodeDecodeError",
     "evalue": "'utf-8' codec can't decode byte 0xb2 in position 464: invalid start byte",
     "output_type": "error",
     "traceback": [
      "\u001b[0;31m---------------------------------------------------------------------------\u001b[0m",
      "\u001b[0;31mUnicodeDecodeError\u001b[0m                        Traceback (most recent call last)",
      "Input \u001b[0;32mIn [1]\u001b[0m, in \u001b[0;36m<cell line: 4>\u001b[0;34m()\u001b[0m\n\u001b[1;32m      2\u001b[0m file \u001b[38;5;241m=\u001b[39m \u001b[38;5;28mopen\u001b[39m(\u001b[38;5;124m'\u001b[39m\u001b[38;5;124m../data/2181200_Q_Day.Cmd.txt\u001b[39m\u001b[38;5;124m'\u001b[39m)\n\u001b[1;32m      3\u001b[0m \u001b[38;5;66;03m#读取文件并将其打印（展示）出来\u001b[39;00m\n\u001b[0;32m----> 4\u001b[0m \u001b[38;5;28mprint\u001b[39m(\u001b[43mfile\u001b[49m\u001b[38;5;241;43m.\u001b[39;49m\u001b[43mread\u001b[49m\u001b[43m(\u001b[49m\u001b[43m)\u001b[49m)\n",
      "File \u001b[0;32m/opt/conda/envs/tutorial/lib/python3.9/codecs.py:322\u001b[0m, in \u001b[0;36mBufferedIncrementalDecoder.decode\u001b[0;34m(self, input, final)\u001b[0m\n\u001b[1;32m    319\u001b[0m \u001b[38;5;28;01mdef\u001b[39;00m \u001b[38;5;21mdecode\u001b[39m(\u001b[38;5;28mself\u001b[39m, \u001b[38;5;28minput\u001b[39m, final\u001b[38;5;241m=\u001b[39m\u001b[38;5;28;01mFalse\u001b[39;00m):\n\u001b[1;32m    320\u001b[0m     \u001b[38;5;66;03m# decode input (taking the buffer into account)\u001b[39;00m\n\u001b[1;32m    321\u001b[0m     data \u001b[38;5;241m=\u001b[39m \u001b[38;5;28mself\u001b[39m\u001b[38;5;241m.\u001b[39mbuffer \u001b[38;5;241m+\u001b[39m \u001b[38;5;28minput\u001b[39m\n\u001b[0;32m--> 322\u001b[0m     (result, consumed) \u001b[38;5;241m=\u001b[39m \u001b[38;5;28;43mself\u001b[39;49m\u001b[38;5;241;43m.\u001b[39;49m\u001b[43m_buffer_decode\u001b[49m\u001b[43m(\u001b[49m\u001b[43mdata\u001b[49m\u001b[43m,\u001b[49m\u001b[43m \u001b[49m\u001b[38;5;28;43mself\u001b[39;49m\u001b[38;5;241;43m.\u001b[39;49m\u001b[43merrors\u001b[49m\u001b[43m,\u001b[49m\u001b[43m \u001b[49m\u001b[43mfinal\u001b[49m\u001b[43m)\u001b[49m\n\u001b[1;32m    323\u001b[0m     \u001b[38;5;66;03m# keep undecoded input until the next call\u001b[39;00m\n\u001b[1;32m    324\u001b[0m     \u001b[38;5;28mself\u001b[39m\u001b[38;5;241m.\u001b[39mbuffer \u001b[38;5;241m=\u001b[39m data[consumed:]\n",
      "\u001b[0;31mUnicodeDecodeError\u001b[0m: 'utf-8' codec can't decode byte 0xb2 in position 464: invalid start byte"
     ]
    }
   ],
   "source": [
    "#打开txt文件\n",
    "file = open('../data/2181200_Q_Day.Cmd_used.txt')\n",
    "#读取文件并将其打印（展示）出来\n",
    "print(file.read())"
   ]
  },
  {
   "cell_type": "markdown",
   "id": "47afc40b-199d-4340-ac2b-4ef262e3275a",
   "metadata": {},
   "source": [
    "with ....语句"
   ]
  },
  {
   "cell_type": "markdown",
   "id": "fbec72cc-757c-4b65-a32f-33c111463c9a",
   "metadata": {
    "tags": []
   },
   "source": [
    "运行我们将看见以下数据：\n",
    "\n",
    "- 第一列是时间，可以看出是以日尺度记录数据的\n",
    "- 第二列是当前日期对应的降雨数据，即value\n",
    "\n",
    "可以发现读取出来的txt和我们直接打开看到的txt内容是一致的。接下来我们将介绍其他常见的文本类数据`.xlsx`、`.csv`，同时演示一遍如何读取。"
   ]
  },
  {
   "cell_type": "markdown",
   "id": "bf9ce537-d916-40f8-8d87-64aed8689cd4",
   "metadata": {
    "tags": []
   },
   "source": [
    "## .xlsx\n",
    "\n",
    "Microsoft Excel电子表格常见格式包括`.xls`和`xlsx`等,是我们常见的储存文本类数据的一类格式。接下来，我们将用`pandas`工具包（暂时将其理解成一个处理数据的强有力的工具）演示如何读取.xlsx文件"
   ]
  },
  {
   "cell_type": "code",
   "execution_count": 2,
   "id": "dba07119-7d75-4c73-8c78-d32087c87e7f",
   "metadata": {},
   "outputs": [
    {
     "name": "stdout",
     "output_type": "stream",
     "text": [
      "       STCD                  TM   DRP\n",
      "0  41023150 2006-05-05 00:00:00   0.5\n",
      "1  41023150 2006-05-05 01:00:00  40.5\n",
      "2  41023150 2006-05-05 02:00:00   5.5\n",
      "3  41023150 2006-05-05 03:00:00   4.5\n",
      "4  41023150 2006-05-05 04:00:00   5.0\n"
     ]
    }
   ],
   "source": [
    "import pandas as pd\n",
    "data = pd.read_excel('../data/test_xlsx.xlsx') # 默认读取第一个sheet\n",
    "print(data.head()) "
   ]
  },
  {
   "cell_type": "markdown",
   "id": "a3c1b9f5-d91e-49be-9c43-5cbebe844b7f",
   "metadata": {},
   "source": [
    "可以看出，文本数据是从0开始计算的。"
   ]
  },
  {
   "cell_type": "markdown",
   "id": "abff6aba-ace9-4d7a-86cc-a9060b2816e1",
   "metadata": {},
   "source": [
    "## .csv\n",
    "\n",
    "CSV 文件又称为逗号分隔值文件，也是我们常见的电子表格和数据库输入、输出文件格式。CSV 是一种通用的、相对简单的文件格式，用以存储表格数据，包括数字或者字符。接下来，我们演示一遍如何读取csv文件"
   ]
  },
  {
   "cell_type": "code",
   "execution_count": 3,
   "id": "440e66e5-cfff-417c-ac2a-1b28c2d562ab",
   "metadata": {
    "tags": []
   },
   "outputs": [
    {
     "data": {
      "text/html": [
       "<div>\n",
       "<style scoped>\n",
       "    .dataframe tbody tr th:only-of-type {\n",
       "        vertical-align: middle;\n",
       "    }\n",
       "\n",
       "    .dataframe tbody tr th {\n",
       "        vertical-align: top;\n",
       "    }\n",
       "\n",
       "    .dataframe thead th {\n",
       "        text-align: right;\n",
       "    }\n",
       "</style>\n",
       "<table border=\"1\" class=\"dataframe\">\n",
       "  <thead>\n",
       "    <tr style=\"text-align: right;\">\n",
       "      <th></th>\n",
       "      <th>STCD</th>\n",
       "      <th>TM</th>\n",
       "      <th>DRP</th>\n",
       "    </tr>\n",
       "  </thead>\n",
       "  <tbody>\n",
       "    <tr>\n",
       "      <th>0</th>\n",
       "      <td>41023150</td>\n",
       "      <td>2006/5/5 0:00</td>\n",
       "      <td>0.5</td>\n",
       "    </tr>\n",
       "    <tr>\n",
       "      <th>1</th>\n",
       "      <td>41023150</td>\n",
       "      <td>2006/5/5 1:00</td>\n",
       "      <td>40.5</td>\n",
       "    </tr>\n",
       "    <tr>\n",
       "      <th>2</th>\n",
       "      <td>41023150</td>\n",
       "      <td>2006/5/5 2:00</td>\n",
       "      <td>5.5</td>\n",
       "    </tr>\n",
       "    <tr>\n",
       "      <th>3</th>\n",
       "      <td>41023150</td>\n",
       "      <td>2006/5/5 3:00</td>\n",
       "      <td>4.5</td>\n",
       "    </tr>\n",
       "    <tr>\n",
       "      <th>4</th>\n",
       "      <td>41023150</td>\n",
       "      <td>2006/5/5 4:00</td>\n",
       "      <td>5.0</td>\n",
       "    </tr>\n",
       "    <tr>\n",
       "      <th>5</th>\n",
       "      <td>41023150</td>\n",
       "      <td>2006/5/5 5:00</td>\n",
       "      <td>4.5</td>\n",
       "    </tr>\n",
       "  </tbody>\n",
       "</table>\n",
       "</div>"
      ],
      "text/plain": [
       "       STCD             TM   DRP\n",
       "0  41023150  2006/5/5 0:00   0.5\n",
       "1  41023150  2006/5/5 1:00  40.5\n",
       "2  41023150  2006/5/5 2:00   5.5\n",
       "3  41023150  2006/5/5 3:00   4.5\n",
       "4  41023150  2006/5/5 4:00   5.0\n",
       "5  41023150  2006/5/5 5:00   4.5"
      ]
     },
     "execution_count": 3,
     "metadata": {},
     "output_type": "execute_result"
    }
   ],
   "source": [
    "import pandas as pd\n",
    "data = pd.read_csv('../data/test_csv.csv')\n",
    "data"
   ]
  },
  {
   "cell_type": "markdown",
   "id": "829d2058-549f-4f6b-894a-b47123f2af86",
   "metadata": {},
   "source": [
    "以上就是常见的文本类（表格式）数据，用Python读取也是很简单的，用一下依赖包与几行命令就可以读取了，当然也是用命令（编程）来对这些文件进行编辑等操作。"
   ]
  },
  {
   "cell_type": "markdown",
   "id": "ad2e2da0-497b-4b04-9cd1-ecc32f3500c8",
   "metadata": {},
   "source": [
    "如果我们自己生成了一些数据，想把它们存储到文件中要怎么做呢"
   ]
  },
  {
   "cell_type": "code",
   "execution_count": null,
   "id": "5f8d0baa-d0de-4685-ae44-2a31583485df",
   "metadata": {},
   "outputs": [],
   "source": []
  },
  {
   "cell_type": "markdown",
   "id": "1a37d83e-fc0a-425d-9ca3-3d86147eef3f",
   "metadata": {},
   "source": [
    "接下来我们就来了解一下空间类型的数据"
   ]
  }
 ],
 "metadata": {
  "kernelspec": {
   "display_name": "Python (tutorial)",
   "language": "python",
   "name": "tutorial"
  },
  "language_info": {
   "codemirror_mode": {
    "name": "ipython",
    "version": 3
   },
   "file_extension": ".py",
   "mimetype": "text/x-python",
   "name": "python",
   "nbconvert_exporter": "python",
   "pygments_lexer": "ipython3",
   "version": "3.9.13"
  }
 },
 "nbformat": 4,
 "nbformat_minor": 5
}

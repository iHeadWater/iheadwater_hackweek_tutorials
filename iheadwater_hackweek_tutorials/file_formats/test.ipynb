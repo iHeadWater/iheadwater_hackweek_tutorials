{
 "cells": [
  {
   "cell_type": "code",
   "execution_count": 2,
   "id": "2e0e4f76-a7da-49b5-9316-05854166600f",
   "metadata": {},
   "outputs": [],
   "source": [
    "with open('../data/example/axam_file.txt','a+') as exam_file:\n",
    "    exam_file.write(\"YYYY-MM-DD;hh:mm;Value\\n1981-01-01;--:--;26.000\\n1981-01-02;--:--;25.100\\n1981-01-03;--:--;24.700\\n1981-01-04;--:--;24.600\")"
   ]
  },
  {
   "cell_type": "code",
   "execution_count": 3,
   "id": "216664d0-5d14-4fbd-97db-809a5b7ae58a",
   "metadata": {},
   "outputs": [],
   "source": [
    "with open('../data/example/axam_file.txt','a') as exam_file:\n",
    "    exam_file.write(\"YYYY-MM-DD;hh:mm;Value\\n1981-01-01;--:--;26.000\\n1981-01-02;--:--;25.100\\n1981-01-03;--:--;24.700\\n1981-01-04;--:--;24.600\")"
   ]
  },
  {
   "cell_type": "code",
   "execution_count": 14,
   "id": "be5cea0c-3e13-4a46-b855-8d5ce01d3b91",
   "metadata": {},
   "outputs": [],
   "source": [
    "with open(\"../data/example/axam_file.txt\", \"a+\") as work_data:\n",
    "    work_data_contents = work_data.readlines()\n",
    "work_data_contents.insert(1, \"This goes between line 1 and 2\\n\")"
   ]
  },
  {
   "cell_type": "code",
   "execution_count": 15,
   "id": "2983679f-bba4-4187-8cff-3e0362defd2d",
   "metadata": {},
   "outputs": [
    {
     "name": "stdout",
     "output_type": "stream",
     "text": [
      "YYYY-MM-DD;hh:mm;Value\n",
      "\n",
      "1981-01-01;--:--;26.000\n",
      "\n",
      "1981-01-02;--:--;25.100\n",
      "\n",
      "1981-01-03;--:--;24.700\n",
      "\n",
      "1981-01-04;--:--;24.600\n"
     ]
    }
   ],
   "source": [
    "with open(\"../data/example/axam_file.txt\", \"r\") as work_data:\n",
    "    for line in work_data:\n",
    "        print(line)"
   ]
  },
  {
   "cell_type": "code",
   "execution_count": null,
   "id": "f79ba32c-df7f-4677-8e57-a014ebffce61",
   "metadata": {},
   "outputs": [],
   "source": []
  }
 ],
 "metadata": {
  "kernelspec": {
   "display_name": "Python (tutorial)",
   "language": "python",
   "name": "tutorial"
  },
  "language_info": {
   "codemirror_mode": {
    "name": "ipython",
    "version": 3
   },
   "file_extension": ".py",
   "mimetype": "text/x-python",
   "name": "python",
   "nbconvert_exporter": "python",
   "pygments_lexer": "ipython3",
   "version": "3.9.13"
  }
 },
 "nbformat": 4,
 "nbformat_minor": 5
}

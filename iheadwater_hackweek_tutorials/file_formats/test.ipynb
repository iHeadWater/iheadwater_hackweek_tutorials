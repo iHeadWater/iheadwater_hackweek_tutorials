{
 "cells": [
  {
   "cell_type": "code",
   "execution_count": 2,
   "id": "2e0e4f76-a7da-49b5-9316-05854166600f",
   "metadata": {},
   "outputs": [],
   "source": [
    "with open('../data/example/axam_file.txt','a+') as exam_file:\n",
    "    exam_file.write(\"YYYY-MM-DD;hh:mm;Value\\n1981-01-01;--:--;26.000\\n1981-01-02;--:--;25.100\\n1981-01-03;--:--;24.700\\n1981-01-04;--:--;24.600\")"
   ]
  },
  {
   "cell_type": "code",
   "execution_count": 3,
   "id": "216664d0-5d14-4fbd-97db-809a5b7ae58a",
   "metadata": {},
   "outputs": [],
   "source": [
    "with open('../data/example/axam_file.txt','a') as exam_file:\n",
    "    exam_file.write(\"YYYY-MM-DD;hh:mm;Value\\n1981-01-01;--:--;26.000\\n1981-01-02;--:--;25.100\\n1981-01-03;--:--;24.700\\n1981-01-04;--:--;24.600\")"
   ]
  },
  {
   "cell_type": "code",
   "execution_count": 14,
   "id": "be5cea0c-3e13-4a46-b855-8d5ce01d3b91",
   "metadata": {},
   "outputs": [],
   "source": [
    "with open(\"../data/example/axam_file.txt\", \"a+\") as work_data:\n",
    "    work_data_contents = work_data.readlines()\n",
    "work_data_contents.insert(1, \"This goes between line 1 and 2\\n\")"
   ]
  },
  {
   "cell_type": "code",
   "execution_count": 15,
   "id": "2983679f-bba4-4187-8cff-3e0362defd2d",
   "metadata": {},
   "outputs": [
    {
     "name": "stdout",
     "output_type": "stream",
     "text": [
      "YYYY-MM-DD;hh:mm;Value\n",
      "\n",
      "1981-01-01;--:--;26.000\n",
      "\n",
      "1981-01-02;--:--;25.100\n",
      "\n",
      "1981-01-03;--:--;24.700\n",
      "\n",
      "1981-01-04;--:--;24.600\n"
     ]
    }
   ],
   "source": [
    "with open(\"../data/example/axam_file.txt\", \"r\") as work_data:\n",
    "    for line in work_data:\n",
    "        print(line)"
   ]
  },
  {
   "cell_type": "code",
   "execution_count": 1,
   "id": "f79ba32c-df7f-4677-8e57-a014ebffce61",
   "metadata": {},
   "outputs": [
    {
     "data": {
      "text/html": [
       "<div>\n",
       "<style scoped>\n",
       "    .dataframe tbody tr th:only-of-type {\n",
       "        vertical-align: middle;\n",
       "    }\n",
       "\n",
       "    .dataframe tbody tr th {\n",
       "        vertical-align: top;\n",
       "    }\n",
       "\n",
       "    .dataframe thead th {\n",
       "        text-align: right;\n",
       "    }\n",
       "</style>\n",
       "<table border=\"1\" class=\"dataframe\">\n",
       "  <thead>\n",
       "    <tr style=\"text-align: right;\">\n",
       "      <th></th>\n",
       "      <th>站名</th>\n",
       "      <th>年-月-日</th>\n",
       "      <th>起</th>\n",
       "      <th>止</th>\n",
       "      <th>降雨量（mm)</th>\n",
       "    </tr>\n",
       "  </thead>\n",
       "  <tbody>\n",
       "    <tr>\n",
       "      <th>0</th>\n",
       "      <td>北洛河大荔站</td>\n",
       "      <td>1990-06-07</td>\n",
       "      <td>01:00:00</td>\n",
       "      <td>02:00:00</td>\n",
       "      <td>0.1</td>\n",
       "    </tr>\n",
       "    <tr>\n",
       "      <th>1</th>\n",
       "      <td>北洛河大荔站</td>\n",
       "      <td>1990-06-07</td>\n",
       "      <td>02:00:00</td>\n",
       "      <td>08:00:00</td>\n",
       "      <td>8.6</td>\n",
       "    </tr>\n",
       "    <tr>\n",
       "      <th>2</th>\n",
       "      <td>北洛河大荔站</td>\n",
       "      <td>1990-06-07</td>\n",
       "      <td>08:00:00</td>\n",
       "      <td>11:00:00</td>\n",
       "      <td>0.6</td>\n",
       "    </tr>\n",
       "    <tr>\n",
       "      <th>3</th>\n",
       "      <td>北洛河大荔站</td>\n",
       "      <td>1990-06-10</td>\n",
       "      <td>19:00:00</td>\n",
       "      <td>20:00:00</td>\n",
       "      <td>0.1</td>\n",
       "    </tr>\n",
       "    <tr>\n",
       "      <th>4</th>\n",
       "      <td>北洛河大荔站</td>\n",
       "      <td>1990-06-10</td>\n",
       "      <td>20:00:00</td>\n",
       "      <td>01:00:00</td>\n",
       "      <td>2.6</td>\n",
       "    </tr>\n",
       "    <tr>\n",
       "      <th>5</th>\n",
       "      <td>北洛河大荔站</td>\n",
       "      <td>1990-06-14</td>\n",
       "      <td>07:00:00</td>\n",
       "      <td>08:00:00</td>\n",
       "      <td>1.5</td>\n",
       "    </tr>\n",
       "    <tr>\n",
       "      <th>6</th>\n",
       "      <td>北洛河大荔站</td>\n",
       "      <td>1990-06-14</td>\n",
       "      <td>08:00:00</td>\n",
       "      <td>09:00:00</td>\n",
       "      <td>3.6</td>\n",
       "    </tr>\n",
       "  </tbody>\n",
       "</table>\n",
       "</div>"
      ],
      "text/plain": [
       "       站名      年-月-日         起         止  降雨量（mm)\n",
       "0  北洛河大荔站 1990-06-07  01:00:00  02:00:00      0.1\n",
       "1  北洛河大荔站 1990-06-07  02:00:00  08:00:00      8.6\n",
       "2  北洛河大荔站 1990-06-07  08:00:00  11:00:00      0.6\n",
       "3  北洛河大荔站 1990-06-10  19:00:00  20:00:00      0.1\n",
       "4  北洛河大荔站 1990-06-10  20:00:00  01:00:00      2.6\n",
       "5  北洛河大荔站 1990-06-14  07:00:00  08:00:00      1.5\n",
       "6  北洛河大荔站 1990-06-14  08:00:00  09:00:00      3.6"
      ]
     },
     "execution_count": 1,
     "metadata": {},
     "output_type": "execute_result"
    }
   ],
   "source": [
    "import pandas as pd\n",
    "df = pd.read_excel(\"../data/pre_test.xlsx\")\n",
    "data1 = df.head(7) #读取前7行\n",
    "data1"
   ]
  },
  {
   "cell_type": "code",
   "execution_count": 2,
   "id": "dd02ba97-4cdc-426d-a669-aab324d0593b",
   "metadata": {},
   "outputs": [
    {
     "name": "stderr",
     "output_type": "stream",
     "text": [
      "ERROR 1: PROJ: proj_create_from_database: Open of /opt/conda/envs/tutorial/share/proj failed\n"
     ]
    },
    {
     "data": {
      "image/png": "[encoded data removed]",
      "text/plain": [
       "<Figure size 640x480 with 1 Axes>"
      ]
     },
     "metadata": {},
     "output_type": "display_data"
    },
    {
     "name": "stdout",
     "output_type": "stream",
     "text": [
      "--保存成功，文件存放位置：../data/basin\n"
     ]
    }
   ],
   "source": [
    "import geopandas\n",
    "import matplotlib.pyplot as plt\n",
    "\n",
    "def saveShapefile(file_path, output_shapefile_name):\n",
    "    try:\n",
    "        data = geopandas.read_file('../data/stationbasins.geojson')\n",
    "        ax = data.plot()\n",
    "        plt.show()  # 显示生成的地图\n",
    "        localPath = '../data/basin'#用于存放生成的文件\n",
    "        data.to_file(localPath, driver='ESRI Shapefile', encoding='utf-8')\n",
    "        print(\"--保存成功，文件存放位置：\"+localPath)\n",
    "    except Exception as ex:\n",
    "        print(\"--------JSON文件不存在，请检查后重试！----\")\n",
    "        pass\n",
    "saveShapefile('../data/stationbasins.geojson', 'basins')"
   ]
  },
  {
   "cell_type": "code",
   "execution_count": 3,
   "id": "ce581fd9-dcab-4565-8688-6f579e7e8a9f",
   "metadata": {},
   "outputs": [
    {
     "ename": "ModuleNotFoundError",
     "evalue": "No module named 'shapefile'",
     "output_type": "error",
     "traceback": [
      "\u001b[0;31m---------------------------------------------------------------------------\u001b[0m",
      "\u001b[0;31mModuleNotFoundError\u001b[0m                       Traceback (most recent call last)",
      "Input \u001b[0;32mIn [3]\u001b[0m, in \u001b[0;36m<cell line: 1>\u001b[0;34m()\u001b[0m\n\u001b[0;32m----> 1\u001b[0m \u001b[38;5;28;01mimport\u001b[39;00m \u001b[38;5;21;01mshapefile\u001b[39;00m\n\u001b[1;32m      2\u001b[0m file \u001b[38;5;241m=\u001b[39m shapefile\u001b[38;5;241m.\u001b[39mReader(\u001b[38;5;124m'\u001b[39m\u001b[38;5;124m../data/basin/basin.shp\u001b[39m\u001b[38;5;124m'\u001b[39m)\n",
      "\u001b[0;31mModuleNotFoundError\u001b[0m: No module named 'shapefile'"
     ]
    }
   ],
   "source": [
    "import shapefile\n",
    "file = shapefile.Reader('../data/basin/basin.shp')"
   ]
  },
  {
   "cell_type": "code",
   "execution_count": 4,
   "id": "39a861ff-b573-4b75-9e07-9181e5cdba75",
   "metadata": {},
   "outputs": [],
   "source": [
    "import geopandas"
   ]
  },
  {
   "cell_type": "code",
   "execution_count": 5,
   "id": "2771f4d9-99e9-4472-ae38-27d47318cc2c",
   "metadata": {},
   "outputs": [],
   "source": [
    "import xarray as xr"
   ]
  },
  {
   "cell_type": "code",
   "execution_count": 6,
   "id": "3a250346-3426-41b1-9d46-02a0f222dd95",
   "metadata": {},
   "outputs": [],
   "source": [
    "from wis_downloader import alos_dem"
   ]
  },
  {
   "cell_type": "code",
   "execution_count": 7,
   "id": "9dfd29b6-486d-4c4c-98d0-9cc9d5eb93cd",
   "metadata": {},
   "outputs": [],
   "source": [
    "from PIL import Image"
   ]
  },
  {
   "cell_type": "code",
   "execution_count": 8,
   "id": "cbf2d00a-9d3f-4cff-b23f-d1b1c2b7d895",
   "metadata": {},
   "outputs": [],
   "source": [
    "import json"
   ]
  },
  {
   "cell_type": "code",
   "execution_count": 10,
   "id": "a51f81d5-b51a-40e6-ba7e-fd57ff1d22c3",
   "metadata": {
    "collapsed": true,
    "jupyter": {
     "outputs_hidden": true
    },
    "tags": []
   },
   "outputs": [
    {
     "name": "stdout",
     "output_type": "stream",
     "text": [
      "{'displayFieldName': 'river', 'fieldAliases': {'grdc_no': 'grdc_no', 'river': 'river', 'station': 'station', 'altitude': 'altitude', 'dist_km': 'dist_km', 'area_hys': 'area_hys'}, 'geometryType': 'esriGeometryPolygon', 'spatialReference': {'wkid': 4326, 'latestWkid': 4326}, 'fields': [{'name': 'grdc_no', 'type': 'esriFieldTypeDouble', 'alias': 'grdc_no'}, {'name': 'river', 'type': 'esriFieldTypeString', 'alias': 'river', 'length': 80}, {'name': 'station', 'type': 'esriFieldTypeString', 'alias': 'station', 'length': 80}, {'name': 'altitude', 'type': 'esriFieldTypeDouble', 'alias': 'altitude'}, {'name': 'dist_km', 'type': 'esriFieldTypeDouble', 'alias': 'dist_km'}, {'name': 'area_hys', 'type': 'esriFieldTypeDouble', 'alias': 'area_hys'}], 'features': [{'attributes': {'grdc_no': 2181200.0, 'river': 'ZAGUNAO HE', 'station': 'ZAGUNAO', 'altitude': -999.0, 'dist_km': 11.7, 'area_hys': 2400.0}, 'geometry': {'rings': [[[102.8958, 31.1958], [102.8813, 31.198], [102.8294, 31.2052], [102.8105, 31.2144], [102.8103, 31.2228], [102.8265, 31.2441], [102.8098, 31.2615], [102.7813, 31.2688], [102.748, 31.2734], [102.752, 31.298], [102.7592, 31.3118], [102.7482, 31.3224], [102.7396, 31.3355], [102.7262, 31.3443], [102.7146, 31.3563], [102.6939, 31.3717], [102.6896, 31.4021], [102.685, 31.4157], [102.6855, 31.4396], [102.6605, 31.4477], [102.6604, 31.4564], [102.6768, 31.4722], [102.6848, 31.4956], [102.6688, 31.5266], [102.6686, 31.5354], [102.669, 31.552], [102.6564, 31.5641], [102.6508, 31.5812], [102.6414, 31.5758], [102.6286, 31.5563], [102.6108, 31.5636], [102.601, 31.6021], [102.6063, 31.6229], [102.6104, 31.6521], [102.6269, 31.6601], [102.6354, 31.6767], [102.6395, 31.7105], [102.6439, 31.7274], [102.6435, 31.7437], [102.6521, 31.7604], [102.6396, 31.7847], [102.6437, 31.798], [102.6539, 31.813], [102.6604, 31.8396], [102.673, 31.8562], [102.6854, 31.8772], [102.7064, 31.8768], [102.7187, 31.8896], [102.7482, 31.8937], [102.7789, 31.9145], [102.798, 31.9105], [102.8288, 31.898], [102.8359, 31.9023], [102.8451, 31.9119], [102.8562, 31.9062], [102.8747, 31.9017], [102.8854, 31.8854], [102.9064, 31.8562], [102.906, 31.8361], [102.9114, 31.8201], [102.8996, 31.8027], [102.9078, 31.7866], [102.8688, 31.7323], [102.8729, 31.727], [102.8792, 31.7272], [102.8875, 31.727], [102.8975, 31.7272], [102.9108, 31.7208], [102.9103, 31.6979], [102.923, 31.6938], [102.9437, 31.6854], [102.961, 31.6798], [102.9688, 31.6646], [102.9768, 31.648], [103.002, 31.6294], [103.0021, 31.6229], [103.0019, 31.6105], [103.0063, 31.6063], [103.0104, 31.5979], [103.0188, 31.5855], [103.0237, 31.5703], [103.0355, 31.5646], [103.0395, 31.5604], [103.0473, 31.5529], [103.0575, 31.5331], [103.0438, 31.5145], [103.0357, 31.5068], [103.0351, 31.4775], [103.0591, 31.4526], [103.0771, 31.4438], [103.0937, 31.4312], [103.1104, 31.4315], [103.1271, 31.4312], [103.1313, 31.4313], [103.1355, 31.4312], [103.16, 31.4479], [103.1649, 31.4436], [103.1645, 31.4231], [103.1726, 31.4147], [103.1893, 31.4066], [103.198, 31.3938], [103.202, 31.3854], [103.2104, 31.3692], [103.2021, 31.3604], [103.1979, 31.3563], [103.1934, 31.3335], [103.1687, 31.3188], [103.161, 31.303], [103.1404, 31.2815], [103.1186, 31.2981], [103.1105, 31.2895], [103.0931, 31.2767], [103.0815, 31.2646], [103.0604, 31.2729], [103.048, 31.2813], [103.0275, 31.2912], [103.0222, 31.3186], [103.0025, 31.319], [102.9855, 31.2859], [102.9813, 31.2645], [102.9624, 31.2584], [102.9563, 31.252], [102.9438, 31.2523], [102.9271, 31.2437], [102.9113, 31.236], [102.9053, 31.205], [102.8979, 31.198], [102.8958, 31.1958]]]}}]}\n",
      "<class 'dict'>\n"
     ]
    }
   ],
   "source": [
    "import json \n",
    "# Opening JSON file\n",
    "with open('../data/stationbasins.geojson', 'r') as openfile: \n",
    "    # Reading from json file\n",
    "    json_object = json.load(openfile) \n",
    "print(json_object)\n",
    "print(type(json_object))"
   ]
  },
  {
   "cell_type": "code",
   "execution_count": 11,
   "id": "214d3006-45b4-4ce8-8c8c-21f9e32d30e4",
   "metadata": {},
   "outputs": [
    {
     "ename": "ModuleNotFoundError",
     "evalue": "No module named 'shapefile'",
     "output_type": "error",
     "traceback": [
      "\u001b[0;31m---------------------------------------------------------------------------\u001b[0m",
      "\u001b[0;31mModuleNotFoundError\u001b[0m                       Traceback (most recent call last)",
      "Input \u001b[0;32mIn [11]\u001b[0m, in \u001b[0;36m<cell line: 1>\u001b[0;34m()\u001b[0m\n\u001b[0;32m----> 1\u001b[0m \u001b[38;5;28;01mimport\u001b[39;00m \u001b[38;5;21;01mshapefile\u001b[39;00m\n",
      "\u001b[0;31mModuleNotFoundError\u001b[0m: No module named 'shapefile'"
     ]
    }
   ],
   "source": [
    "import shapefile"
   ]
  },
  {
   "cell_type": "code",
   "execution_count": 12,
   "id": "1cb4ad44-14d6-4ce8-a41d-a5d290451e00",
   "metadata": {},
   "outputs": [
    {
     "ename": "ModuleNotFoundError",
     "evalue": "No module named 'GeoDataFrame'",
     "output_type": "error",
     "traceback": [
      "\u001b[0;31m---------------------------------------------------------------------------\u001b[0m",
      "\u001b[0;31mModuleNotFoundError\u001b[0m                       Traceback (most recent call last)",
      "Input \u001b[0;32mIn [12]\u001b[0m, in \u001b[0;36m<cell line: 1>\u001b[0;34m()\u001b[0m\n\u001b[0;32m----> 1\u001b[0m \u001b[38;5;28;01mimport\u001b[39;00m \u001b[38;5;21;01mGeoDataFrame\u001b[39;00m\n",
      "\u001b[0;31mModuleNotFoundError\u001b[0m: No module named 'GeoDataFrame'"
     ]
    }
   ],
   "source": [
    "import GeoDataFrame"
   ]
  },
  {
   "cell_type": "code",
   "execution_count": 13,
   "id": "56c586cf-345a-4da1-b0f1-d32e79705d6f",
   "metadata": {},
   "outputs": [
    {
     "ename": "ImportError",
     "evalue": "cannot import name 'shapefile' from 'geopandas' (/opt/conda/envs/tutorial/lib/python3.9/site-packages/geopandas/__init__.py)",
     "output_type": "error",
     "traceback": [
      "\u001b[0;31m---------------------------------------------------------------------------\u001b[0m",
      "\u001b[0;31mImportError\u001b[0m                               Traceback (most recent call last)",
      "Input \u001b[0;32mIn [13]\u001b[0m, in \u001b[0;36m<cell line: 1>\u001b[0;34m()\u001b[0m\n\u001b[0;32m----> 1\u001b[0m \u001b[38;5;28;01mfrom\u001b[39;00m \u001b[38;5;21;01mgeopandas\u001b[39;00m \u001b[38;5;28;01mimport\u001b[39;00m shapefile\n",
      "\u001b[0;31mImportError\u001b[0m: cannot import name 'shapefile' from 'geopandas' (/opt/conda/envs/tutorial/lib/python3.9/site-packages/geopandas/__init__.py)"
     ]
    }
   ],
   "source": [
    "from geopandas import shapefile"
   ]
  },
  {
   "cell_type": "code",
   "execution_count": 15,
   "id": "652b9a0b-f869-4939-ab6a-b51030b1d7b4",
   "metadata": {},
   "outputs": [
    {
     "data": {
      "text/html": [
       "<div>\n",
       "<style scoped>\n",
       "    .dataframe tbody tr th:only-of-type {\n",
       "        vertical-align: middle;\n",
       "    }\n",
       "\n",
       "    .dataframe tbody tr th {\n",
       "        vertical-align: top;\n",
       "    }\n",
       "\n",
       "    .dataframe thead th {\n",
       "        text-align: right;\n",
       "    }\n",
       "</style>\n",
       "<table border=\"1\" class=\"dataframe\">\n",
       "  <thead>\n",
       "    <tr style=\"text-align: right;\">\n",
       "      <th></th>\n",
       "      <th>col1</th>\n",
       "      <th>geometry</th>\n",
       "    </tr>\n",
       "  </thead>\n",
       "  <tbody>\n",
       "    <tr>\n",
       "      <th>0</th>\n",
       "      <td>name1</td>\n",
       "      <td>POINT (1.00000 2.00000)</td>\n",
       "    </tr>\n",
       "    <tr>\n",
       "      <th>1</th>\n",
       "      <td>name2</td>\n",
       "      <td>POINT (2.00000 1.00000)</td>\n",
       "    </tr>\n",
       "  </tbody>\n",
       "</table>\n",
       "</div>"
      ],
      "text/plain": [
       "    col1                 geometry\n",
       "0  name1  POINT (1.00000 2.00000)\n",
       "1  name2  POINT (2.00000 1.00000)"
      ]
     },
     "execution_count": 15,
     "metadata": {},
     "output_type": "execute_result"
    }
   ],
   "source": [
    "from shapely.geometry import Point\n",
    "d = {'col1': ['name1', 'name2'], 'geometry': [Point(1, 2), Point(2, 1)]}\n",
    "gdf = geopandas.GeoDataFrame(d, crs=\"EPSG:4326\")\n",
    "gdf"
   ]
  },
  {
   "cell_type": "code",
   "execution_count": 16,
   "id": "b16e5922-cd2b-4ea0-a645-916fe26e90ae",
   "metadata": {},
   "outputs": [
    {
     "data": {
      "text/html": [
       "<div>\n",
       "<style scoped>\n",
       "    .dataframe tbody tr th:only-of-type {\n",
       "        vertical-align: middle;\n",
       "    }\n",
       "\n",
       "    .dataframe tbody tr th {\n",
       "        vertical-align: top;\n",
       "    }\n",
       "\n",
       "    .dataframe thead th {\n",
       "        text-align: right;\n",
       "    }\n",
       "</style>\n",
       "<table border=\"1\" class=\"dataframe\">\n",
       "  <thead>\n",
       "    <tr style=\"text-align: right;\">\n",
       "      <th></th>\n",
       "      <th>col1</th>\n",
       "      <th>wkt</th>\n",
       "      <th>geometry</th>\n",
       "    </tr>\n",
       "  </thead>\n",
       "  <tbody>\n",
       "    <tr>\n",
       "      <th>0</th>\n",
       "      <td>name1</td>\n",
       "      <td>POINT (1 2)</td>\n",
       "      <td>POINT (1.00000 2.00000)</td>\n",
       "    </tr>\n",
       "    <tr>\n",
       "      <th>1</th>\n",
       "      <td>name2</td>\n",
       "      <td>POINT (2 1)</td>\n",
       "      <td>POINT (2.00000 1.00000)</td>\n",
       "    </tr>\n",
       "  </tbody>\n",
       "</table>\n",
       "</div>"
      ],
      "text/plain": [
       "    col1          wkt                 geometry\n",
       "0  name1  POINT (1 2)  POINT (1.00000 2.00000)\n",
       "1  name2  POINT (2 1)  POINT (2.00000 1.00000)"
      ]
     },
     "execution_count": 16,
     "metadata": {},
     "output_type": "execute_result"
    }
   ],
   "source": [
    "import pandas as pd\n",
    "d = {'col1': ['name1', 'name2'], 'wkt': ['POINT (1 2)', 'POINT (2 1)']}\n",
    "df = pd.DataFrame(d)\n",
    "gs = geopandas.GeoSeries.from_wkt(df['wkt'])\n",
    "gdf = geopandas.GeoDataFrame(df, geometry=gs, crs=\"EPSG:4326\")\n",
    "gdf"
   ]
  },
  {
   "cell_type": "code",
   "execution_count": 17,
   "id": "c369eb6a-954d-4e1f-a747-73f297fbed9a",
   "metadata": {},
   "outputs": [],
   "source": [
    "import fiona"
   ]
  },
  {
   "cell_type": "code",
   "execution_count": 19,
   "id": "e3ec0226-d109-4cc0-a5c5-5f2e4b750717",
   "metadata": {
    "collapsed": true,
    "jupyter": {
     "outputs_hidden": true
    },
    "tags": []
   },
   "outputs": [
    {
     "data": {
      "text/html": [
       "<div>\n",
       "<style scoped>\n",
       "    .dataframe tbody tr th:only-of-type {\n",
       "        vertical-align: middle;\n",
       "    }\n",
       "\n",
       "    .dataframe tbody tr th {\n",
       "        vertical-align: top;\n",
       "    }\n",
       "\n",
       "    .dataframe thead th {\n",
       "        text-align: right;\n",
       "    }\n",
       "</style>\n",
       "<table border=\"1\" class=\"dataframe\">\n",
       "  <thead>\n",
       "    <tr style=\"text-align: right;\">\n",
       "      <th></th>\n",
       "      <th>grdc_no</th>\n",
       "      <th>river</th>\n",
       "      <th>station</th>\n",
       "      <th>altitude</th>\n",
       "      <th>dist_km</th>\n",
       "      <th>area_hys</th>\n",
       "      <th>geometry</th>\n",
       "    </tr>\n",
       "  </thead>\n",
       "  <tbody>\n",
       "    <tr>\n",
       "      <th>0</th>\n",
       "      <td>2181200.0</td>\n",
       "      <td>ZAGUNAO HE</td>\n",
       "      <td>ZAGUNAO</td>\n",
       "      <td>-999.0</td>\n",
       "      <td>11.7</td>\n",
       "      <td>2400.0</td>\n",
       "      <td>POLYGON ((102.89580 31.19580, 102.88130 31.198...</td>\n",
       "    </tr>\n",
       "  </tbody>\n",
       "</table>\n",
       "</div>"
      ],
      "text/plain": [
       "     grdc_no       river  station  altitude  dist_km  area_hys  \\\n",
       "0  2181200.0  ZAGUNAO HE  ZAGUNAO    -999.0     11.7    2400.0   \n",
       "\n",
       "                                            geometry  \n",
       "0  POLYGON ((102.89580 31.19580, 102.88130 31.198...  "
      ]
     },
     "execution_count": 19,
     "metadata": {},
     "output_type": "execute_result"
    }
   ],
   "source": [
    "df = geopandas.read_file('../data/basin/basin.shp')\n",
    "df"
   ]
  },
  {
   "cell_type": "code",
   "execution_count": 20,
   "id": "8334ca27-52ba-40b0-ac8c-989e681acdbc",
   "metadata": {
    "collapsed": true,
    "jupyter": {
     "outputs_hidden": true
    },
    "tags": []
   },
   "outputs": [
    {
     "data": {
      "text/html": [
       "<div>\n",
       "<style scoped>\n",
       "    .dataframe tbody tr th:only-of-type {\n",
       "        vertical-align: middle;\n",
       "    }\n",
       "\n",
       "    .dataframe tbody tr th {\n",
       "        vertical-align: top;\n",
       "    }\n",
       "\n",
       "    .dataframe thead th {\n",
       "        text-align: right;\n",
       "    }\n",
       "</style>\n",
       "<table border=\"1\" class=\"dataframe\">\n",
       "  <thead>\n",
       "    <tr style=\"text-align: right;\">\n",
       "      <th></th>\n",
       "      <th>grdc_no</th>\n",
       "      <th>river</th>\n",
       "      <th>station</th>\n",
       "      <th>altitude</th>\n",
       "      <th>dist_km</th>\n",
       "      <th>area_hys</th>\n",
       "      <th>geometry</th>\n",
       "    </tr>\n",
       "  </thead>\n",
       "  <tbody>\n",
       "    <tr>\n",
       "      <th>0</th>\n",
       "      <td>2181200.0</td>\n",
       "      <td>ZAGUNAO HE</td>\n",
       "      <td>ZAGUNAO</td>\n",
       "      <td>-999.0</td>\n",
       "      <td>11.7</td>\n",
       "      <td>2400.0</td>\n",
       "      <td>POLYGON ((102.89580 31.19580, 102.88130 31.198...</td>\n",
       "    </tr>\n",
       "  </tbody>\n",
       "</table>\n",
       "</div>"
      ],
      "text/plain": [
       "     grdc_no       river  station  altitude  dist_km  area_hys  \\\n",
       "0  2181200.0  ZAGUNAO HE  ZAGUNAO    -999.0     11.7    2400.0   \n",
       "\n",
       "                                            geometry  \n",
       "0  POLYGON ((102.89580 31.19580, 102.88130 31.198...  "
      ]
     },
     "execution_count": 20,
     "metadata": {},
     "output_type": "execute_result"
    }
   ],
   "source": [
    "df = geopandas.read_file('../data/stationbasins.geojson')\n",
    "df"
   ]
  },
  {
   "cell_type": "code",
   "execution_count": 21,
   "id": "ead74310-938b-429c-8c8f-5c15a171e399",
   "metadata": {
    "collapsed": true,
    "jupyter": {
     "outputs_hidden": true
    },
    "tags": []
   },
   "outputs": [
    {
     "name": "stdout",
     "output_type": "stream",
     "text": [
      "{'displayFieldName': 'river', 'fieldAliases': {'grdc_no': 'grdc_no', 'river': 'river', 'station': 'station', 'altitude': 'altitude', 'dist_km': 'dist_km', 'area_hys': 'area_hys'}, 'geometryType': 'esriGeometryPolygon', 'spatialReference': {'wkid': 4326, 'latestWkid': 4326}, 'fields': [{'name': 'grdc_no', 'type': 'esriFieldTypeDouble', 'alias': 'grdc_no'}, {'name': 'river', 'type': 'esriFieldTypeString', 'alias': 'river', 'length': 80}, {'name': 'station', 'type': 'esriFieldTypeString', 'alias': 'station', 'length': 80}, {'name': 'altitude', 'type': 'esriFieldTypeDouble', 'alias': 'altitude'}, {'name': 'dist_km', 'type': 'esriFieldTypeDouble', 'alias': 'dist_km'}, {'name': 'area_hys', 'type': 'esriFieldTypeDouble', 'alias': 'area_hys'}], 'features': [{'attributes': {'grdc_no': 2181200.0, 'river': 'ZAGUNAO HE', 'station': 'ZAGUNAO', 'altitude': -999.0, 'dist_km': 11.7, 'area_hys': 2400.0}, 'geometry': {'rings': [[[102.8958, 31.1958], [102.8813, 31.198], [102.8294, 31.2052], [102.8105, 31.2144], [102.8103, 31.2228], [102.8265, 31.2441], [102.8098, 31.2615], [102.7813, 31.2688], [102.748, 31.2734], [102.752, 31.298], [102.7592, 31.3118], [102.7482, 31.3224], [102.7396, 31.3355], [102.7262, 31.3443], [102.7146, 31.3563], [102.6939, 31.3717], [102.6896, 31.4021], [102.685, 31.4157], [102.6855, 31.4396], [102.6605, 31.4477], [102.6604, 31.4564], [102.6768, 31.4722], [102.6848, 31.4956], [102.6688, 31.5266], [102.6686, 31.5354], [102.669, 31.552], [102.6564, 31.5641], [102.6508, 31.5812], [102.6414, 31.5758], [102.6286, 31.5563], [102.6108, 31.5636], [102.601, 31.6021], [102.6063, 31.6229], [102.6104, 31.6521], [102.6269, 31.6601], [102.6354, 31.6767], [102.6395, 31.7105], [102.6439, 31.7274], [102.6435, 31.7437], [102.6521, 31.7604], [102.6396, 31.7847], [102.6437, 31.798], [102.6539, 31.813], [102.6604, 31.8396], [102.673, 31.8562], [102.6854, 31.8772], [102.7064, 31.8768], [102.7187, 31.8896], [102.7482, 31.8937], [102.7789, 31.9145], [102.798, 31.9105], [102.8288, 31.898], [102.8359, 31.9023], [102.8451, 31.9119], [102.8562, 31.9062], [102.8747, 31.9017], [102.8854, 31.8854], [102.9064, 31.8562], [102.906, 31.8361], [102.9114, 31.8201], [102.8996, 31.8027], [102.9078, 31.7866], [102.8688, 31.7323], [102.8729, 31.727], [102.8792, 31.7272], [102.8875, 31.727], [102.8975, 31.7272], [102.9108, 31.7208], [102.9103, 31.6979], [102.923, 31.6938], [102.9437, 31.6854], [102.961, 31.6798], [102.9688, 31.6646], [102.9768, 31.648], [103.002, 31.6294], [103.0021, 31.6229], [103.0019, 31.6105], [103.0063, 31.6063], [103.0104, 31.5979], [103.0188, 31.5855], [103.0237, 31.5703], [103.0355, 31.5646], [103.0395, 31.5604], [103.0473, 31.5529], [103.0575, 31.5331], [103.0438, 31.5145], [103.0357, 31.5068], [103.0351, 31.4775], [103.0591, 31.4526], [103.0771, 31.4438], [103.0937, 31.4312], [103.1104, 31.4315], [103.1271, 31.4312], [103.1313, 31.4313], [103.1355, 31.4312], [103.16, 31.4479], [103.1649, 31.4436], [103.1645, 31.4231], [103.1726, 31.4147], [103.1893, 31.4066], [103.198, 31.3938], [103.202, 31.3854], [103.2104, 31.3692], [103.2021, 31.3604], [103.1979, 31.3563], [103.1934, 31.3335], [103.1687, 31.3188], [103.161, 31.303], [103.1404, 31.2815], [103.1186, 31.2981], [103.1105, 31.2895], [103.0931, 31.2767], [103.0815, 31.2646], [103.0604, 31.2729], [103.048, 31.2813], [103.0275, 31.2912], [103.0222, 31.3186], [103.0025, 31.319], [102.9855, 31.2859], [102.9813, 31.2645], [102.9624, 31.2584], [102.9563, 31.252], [102.9438, 31.2523], [102.9271, 31.2437], [102.9113, 31.236], [102.9053, 31.205], [102.8979, 31.198], [102.8958, 31.1958]]]}}]}\n"
     ]
    }
   ],
   "source": [
    "import json \n",
    "# Opening JSON file\n",
    "with open('../data/stationbasins.geojson', 'r') as openfile: \n",
    "    # Reading from json file\n",
    "    json_object = json.load(openfile) \n",
    "print(json_object)"
   ]
  },
  {
   "cell_type": "code",
   "execution_count": 22,
   "id": "d240e75d-eda7-4538-a733-434fdd8f9d6c",
   "metadata": {
    "collapsed": true,
    "jupyter": {
     "outputs_hidden": true
    },
    "tags": []
   },
   "outputs": [
    {
     "data": {
      "text/plain": [
       "{'DXF': 'rw',\n",
       " 'CSV': 'raw',\n",
       " 'OpenFileGDB': 'r',\n",
       " 'ESRIJSON': 'r',\n",
       " 'ESRI Shapefile': 'raw',\n",
       " 'FlatGeobuf': 'rw',\n",
       " 'GeoJSON': 'raw',\n",
       " 'GeoJSONSeq': 'rw',\n",
       " 'GPKG': 'raw',\n",
       " 'GML': 'rw',\n",
       " 'OGR_GMT': 'rw',\n",
       " 'GPX': 'rw',\n",
       " 'Idrisi': 'r',\n",
       " 'MapInfo File': 'raw',\n",
       " 'DGN': 'raw',\n",
       " 'PCIDSK': 'raw',\n",
       " 'OGR_PDS': 'r',\n",
       " 'S57': 'r',\n",
       " 'SQLite': 'raw',\n",
       " 'TopoJSON': 'r'}"
      ]
     },
     "execution_count": 22,
     "metadata": {},
     "output_type": "execute_result"
    }
   ],
   "source": [
    "import fiona; fiona.supported_drivers"
   ]
  },
  {
   "cell_type": "code",
   "execution_count": 23,
   "id": "a52f3d31-8ed6-4d16-9cbe-953ce4145e09",
   "metadata": {
    "collapsed": true,
    "jupyter": {
     "outputs_hidden": true
    },
    "tags": []
   },
   "outputs": [
    {
     "name": "stdout",
     "output_type": "stream",
     "text": [
      "Help on function open in module fiona:\n",
      "\n",
      "open(fp, mode='r', driver=None, schema=None, crs=None, encoding=None, layer=None, vfs=None, enabled_drivers=None, crs_wkt=None, **kwargs)\n",
      "    Open a collection for read, append, or write\n",
      "    \n",
      "    In write mode, a driver name such as \"ESRI Shapefile\" or \"GPX\" (see\n",
      "    OGR docs or ``ogr2ogr --help`` on the command line) and a schema\n",
      "    mapping such as:\n",
      "    \n",
      "      {'geometry': 'Point',\n",
      "       'properties': [('class', 'int'), ('label', 'str'),\n",
      "                      ('value', 'float')]}\n",
      "    \n",
      "    must be provided. If a particular ordering of properties (\"fields\"\n",
      "    in GIS parlance) in the written file is desired, a list of (key,\n",
      "    value) pairs as above or an ordered dict is required. If no ordering\n",
      "    is needed, a standard dict will suffice.\n",
      "    \n",
      "    A coordinate reference system for collections in write mode can be\n",
      "    defined by the ``crs`` parameter. It takes Proj4 style mappings like\n",
      "    \n",
      "      {'proj': 'longlat', 'ellps': 'WGS84', 'datum': 'WGS84',\n",
      "       'no_defs': True}\n",
      "    \n",
      "    short hand strings like\n",
      "    \n",
      "      EPSG:4326\n",
      "    \n",
      "    or WKT representations of coordinate reference systems.\n",
      "    \n",
      "    The drivers used by Fiona will try to detect the encoding of data\n",
      "    files. If they fail, you may provide the proper ``encoding``, such\n",
      "    as 'Windows-1252' for the Natural Earth datasets.\n",
      "    \n",
      "    When the provided path is to a file containing multiple named layers\n",
      "    of data, a layer can be singled out by ``layer``.\n",
      "    \n",
      "    The drivers enabled for opening datasets may be restricted to those\n",
      "    listed in the ``enabled_drivers`` parameter. This and the ``driver``\n",
      "    parameter afford much control over opening of files.\n",
      "    \n",
      "      # Trying only the GeoJSON driver when opening to read, the\n",
      "      # following raises ``DataIOError``:\n",
      "      fiona.open('example.shp', driver='GeoJSON')\n",
      "    \n",
      "      # Trying first the GeoJSON driver, then the Shapefile driver,\n",
      "      # the following succeeds:\n",
      "      fiona.open(\n",
      "          'example.shp', enabled_drivers=['GeoJSON', 'ESRI Shapefile'])\n",
      "    \n",
      "    Parameters\n",
      "    ----------\n",
      "    fp : URI (str or pathlib.Path), or file-like object\n",
      "        A dataset resource identifier or file object.\n",
      "    mode : str\n",
      "        One of 'r', to read (the default); 'a', to append; or 'w', to\n",
      "        write.\n",
      "    driver : str\n",
      "        In 'w' mode a format driver name is required. In 'r' or 'a'\n",
      "        mode this parameter has no effect.\n",
      "    schema : dict\n",
      "        Required in 'w' mode, has no effect in 'r' or 'a' mode.\n",
      "    crs : str or dict\n",
      "        Required in 'w' mode, has no effect in 'r' or 'a' mode.\n",
      "    encoding : str\n",
      "        Name of the encoding used to encode or decode the dataset.\n",
      "    layer : int or str\n",
      "        The integer index or name of a layer in a multi-layer dataset.\n",
      "    vfs : str\n",
      "        This is a deprecated parameter. A URI scheme such as \"zip://\"\n",
      "        should be used instead.\n",
      "    enabled_drivers : list\n",
      "        An optional list of driver names to used when opening a\n",
      "        collection.\n",
      "    crs_wkt : str\n",
      "        An optional WKT representation of a coordinate reference\n",
      "        system.\n",
      "    kwargs : mapping\n",
      "        Other driver-specific parameters that will be interpreted by\n",
      "        the OGR library as layer creation or opening options.\n",
      "    \n",
      "    Returns\n",
      "    -------\n",
      "    Collection\n",
      "\n"
     ]
    }
   ],
   "source": [
    "import fiona; help(fiona.open)"
   ]
  },
  {
   "cell_type": "code",
   "execution_count": 1,
   "id": "ac09024b-0efe-47ad-ab1e-19f4c0befd9c",
   "metadata": {},
   "outputs": [
    {
     "name": "stderr",
     "output_type": "stream",
     "text": [
      "ERROR 1: PROJ: proj_create_from_database: Open of /opt/conda/envs/tutorial/share/proj failed\n"
     ]
    },
    {
     "data": {
      "text/html": [
       "<div>\n",
       "<style scoped>\n",
       "    .dataframe tbody tr th:only-of-type {\n",
       "        vertical-align: middle;\n",
       "    }\n",
       "\n",
       "    .dataframe tbody tr th {\n",
       "        vertical-align: top;\n",
       "    }\n",
       "\n",
       "    .dataframe thead th {\n",
       "        text-align: right;\n",
       "    }\n",
       "</style>\n",
       "<table border=\"1\" class=\"dataframe\">\n",
       "  <thead>\n",
       "    <tr style=\"text-align: right;\">\n",
       "      <th></th>\n",
       "      <th>grdc_no</th>\n",
       "      <th>river</th>\n",
       "      <th>station</th>\n",
       "      <th>altitude</th>\n",
       "      <th>dist_km</th>\n",
       "      <th>area_hys</th>\n",
       "      <th>geometry</th>\n",
       "    </tr>\n",
       "  </thead>\n",
       "  <tbody>\n",
       "    <tr>\n",
       "      <th>0</th>\n",
       "      <td>2181200.0</td>\n",
       "      <td>ZAGUNAO HE</td>\n",
       "      <td>ZAGUNAO</td>\n",
       "      <td>-999.0</td>\n",
       "      <td>11.7</td>\n",
       "      <td>2400.0</td>\n",
       "      <td>POLYGON ((102.89580 31.19580, 102.88130 31.198...</td>\n",
       "    </tr>\n",
       "  </tbody>\n",
       "</table>\n",
       "</div>"
      ],
      "text/plain": [
       "     grdc_no       river  station  altitude  dist_km  area_hys  \\\n",
       "0  2181200.0  ZAGUNAO HE  ZAGUNAO    -999.0     11.7    2400.0   \n",
       "\n",
       "                                            geometry  \n",
       "0  POLYGON ((102.89580 31.19580, 102.88130 31.198...  "
      ]
     },
     "execution_count": 1,
     "metadata": {},
     "output_type": "execute_result"
    }
   ],
   "source": [
    "import geopandas\n",
    "df = geopandas.read_file('../data/basin/basin.shp')\n",
    "df"
   ]
  },
  {
   "cell_type": "code",
   "execution_count": 2,
   "id": "3a19ec15-bb65-444d-84a2-d8a59d035f54",
   "metadata": {},
   "outputs": [
    {
     "data": {
      "text/html": [
       "<div>\n",
       "<style scoped>\n",
       "    .dataframe tbody tr th:only-of-type {\n",
       "        vertical-align: middle;\n",
       "    }\n",
       "\n",
       "    .dataframe tbody tr th {\n",
       "        vertical-align: top;\n",
       "    }\n",
       "\n",
       "    .dataframe thead th {\n",
       "        text-align: right;\n",
       "    }\n",
       "</style>\n",
       "<table border=\"1\" class=\"dataframe\">\n",
       "  <thead>\n",
       "    <tr style=\"text-align: right;\">\n",
       "      <th></th>\n",
       "      <th>grdc_no</th>\n",
       "      <th>river</th>\n",
       "      <th>station</th>\n",
       "      <th>altitude</th>\n",
       "      <th>dist_km</th>\n",
       "      <th>area_hys</th>\n",
       "      <th>geometry</th>\n",
       "    </tr>\n",
       "  </thead>\n",
       "  <tbody>\n",
       "    <tr>\n",
       "      <th>0</th>\n",
       "      <td>2181200.0</td>\n",
       "      <td>ZAGUNAO HE</td>\n",
       "      <td>ZAGUNAO</td>\n",
       "      <td>-999.0</td>\n",
       "      <td>11.7</td>\n",
       "      <td>2400.0</td>\n",
       "      <td>POLYGON ((102.89580 31.19580, 102.88130 31.198...</td>\n",
       "    </tr>\n",
       "  </tbody>\n",
       "</table>\n",
       "</div>"
      ],
      "text/plain": [
       "     grdc_no       river  station  altitude  dist_km  area_hys  \\\n",
       "0  2181200.0  ZAGUNAO HE  ZAGUNAO    -999.0     11.7    2400.0   \n",
       "\n",
       "                                            geometry  \n",
       "0  POLYGON ((102.89580 31.19580, 102.88130 31.198...  "
      ]
     },
     "execution_count": 2,
     "metadata": {},
     "output_type": "execute_result"
    }
   ],
   "source": [
    "import geopandas\n",
    "df_test = geopandas.read_file('../data/basin_test/basin.shp')\n",
    "df_test"
   ]
  },
  {
   "cell_type": "code",
   "execution_count": 3,
   "id": "a478a2aa-8113-4655-8945-6e1aa908ee22",
   "metadata": {},
   "outputs": [],
   "source": [
    "df_test.to_file(\"countries.shp\")"
   ]
  },
  {
   "cell_type": "code",
   "execution_count": 4,
   "id": "df613bda-925f-48c8-ac69-536ea08fc5a7",
   "metadata": {},
   "outputs": [
    {
     "data": {
      "text/html": [
       "<div>\n",
       "<style scoped>\n",
       "    .dataframe tbody tr th:only-of-type {\n",
       "        vertical-align: middle;\n",
       "    }\n",
       "\n",
       "    .dataframe tbody tr th {\n",
       "        vertical-align: top;\n",
       "    }\n",
       "\n",
       "    .dataframe thead th {\n",
       "        text-align: right;\n",
       "    }\n",
       "</style>\n",
       "<table border=\"1\" class=\"dataframe\">\n",
       "  <thead>\n",
       "    <tr style=\"text-align: right;\">\n",
       "      <th></th>\n",
       "      <th>grdc_no</th>\n",
       "      <th>river</th>\n",
       "      <th>station</th>\n",
       "      <th>altitude</th>\n",
       "      <th>dist_km</th>\n",
       "      <th>area_hys</th>\n",
       "      <th>geometry</th>\n",
       "    </tr>\n",
       "  </thead>\n",
       "  <tbody>\n",
       "    <tr>\n",
       "      <th>0</th>\n",
       "      <td>2181200.0</td>\n",
       "      <td>ZAGUNAO HE</td>\n",
       "      <td>ZAGUNAO</td>\n",
       "      <td>-999.0</td>\n",
       "      <td>11.7</td>\n",
       "      <td>2400.0</td>\n",
       "      <td>POLYGON ((102.89580 31.19580, 102.88130 31.198...</td>\n",
       "    </tr>\n",
       "  </tbody>\n",
       "</table>\n",
       "</div>"
      ],
      "text/plain": [
       "     grdc_no       river  station  altitude  dist_km  area_hys  \\\n",
       "0  2181200.0  ZAGUNAO HE  ZAGUNAO    -999.0     11.7    2400.0   \n",
       "\n",
       "                                            geometry  \n",
       "0  POLYGON ((102.89580 31.19580, 102.88130 31.198...  "
      ]
     },
     "execution_count": 4,
     "metadata": {},
     "output_type": "execute_result"
    }
   ],
   "source": [
    "df_test"
   ]
  },
  {
   "cell_type": "code",
   "execution_count": null,
   "id": "c4ce737e-970d-48af-9653-f1c2aadf9ab4",
   "metadata": {},
   "outputs": [],
   "source": []
  },
  {
   "cell_type": "code",
   "execution_count": 6,
   "id": "8e1c44f1-8ee7-4117-b50a-954b28b4a50d",
   "metadata": {
    "collapsed": true,
    "jupyter": {
     "outputs_hidden": true
    },
    "tags": []
   },
   "outputs": [
    {
     "name": "stdout",
     "output_type": "stream",
     "text": [
      "epsg:4326\n",
      "     grdc_no       river  station  altitude  dist_km  area_hys  \\\n",
      "0  2181200.0  ZAGUNAO HE  ZAGUNAO    -999.0     11.7    2400.0   \n",
      "\n",
      "                                            geometry  \n",
      "0  POLYGON ((102.89580 31.19580, 102.88130 31.198...  \n"
     ]
    },
    {
     "data": {
      "image/png": "[encoded data removed]",
      "text/plain": [
       "<Figure size 640x480 with 1 Axes>"
      ]
     },
     "metadata": {},
     "output_type": "display_data"
    }
   ],
   "source": [
    "import matplotlib.pyplot as plt\n",
    "print(df_test.crs)  # 查看数据对应的投影信息\n",
    "print(df_test.head())  # 查看前5行数据\n",
    "df_test.plot()\n",
    "plt.show()#简单展示"
   ]
  },
  {
   "cell_type": "code",
   "execution_count": 7,
   "id": "613486f9-a6b9-45c6-b32a-1a2caa33ec06",
   "metadata": {},
   "outputs": [
    {
     "name": "stdout",
     "output_type": "stream",
     "text": [
      "epsg:4326\n"
     ]
    }
   ],
   "source": [
    "print(df_test.crs)  # 查看数据对应的投影信息"
   ]
  },
  {
   "cell_type": "code",
   "execution_count": 10,
   "id": "57da925d-1ba6-4640-ac75-67d46f478ea3",
   "metadata": {},
   "outputs": [
    {
     "name": "stdout",
     "output_type": "stream",
     "text": [
      "     grdc_no       river  station  altitude  dist_km  area_hys  \\\n",
      "0  2181200.0  ZAGUNAO HE  ZAGUNAO    -999.0     11.7    2400.0   \n",
      "\n",
      "                                            geometry  \n",
      "0  POLYGON ((102.89580 31.19580, 102.88130 31.198...  \n"
     ]
    }
   ],
   "source": [
    "print(df_test.head())  # 查看前5行数据"
   ]
  },
  {
   "cell_type": "code",
   "execution_count": 11,
   "id": "090f3df9-97d7-465d-8227-56809ca4be10",
   "metadata": {},
   "outputs": [
    {
     "name": "stdout",
     "output_type": "stream",
     "text": [
      "     grdc_no       river  station  altitude  dist_km  area_hys  \\\n",
      "0  2181200.0  ZAGUNAO HE  ZAGUNAO    -999.0     11.7    2400.0   \n",
      "\n",
      "                                            geometry  \n",
      "0  POLYGON ((102.89580 31.19580, 102.88130 31.198...  \n"
     ]
    }
   ],
   "source": [
    "print(df_test)"
   ]
  },
  {
   "cell_type": "code",
   "execution_count": 12,
   "id": "d48f035a-5553-4703-b337-b5c029849332",
   "metadata": {},
   "outputs": [
    {
     "data": {
      "text/plain": [
       "<AxesSubplot:>"
      ]
     },
     "execution_count": 12,
     "metadata": {},
     "output_type": "execute_result"
    },
    {
     "data": {
      "image/png": "[encoded data removed]",
      "text/plain": [
       "<Figure size 640x480 with 1 Axes>"
      ]
     },
     "metadata": {},
     "output_type": "display_data"
    }
   ],
   "source": [
    "df_test.plot()"
   ]
  },
  {
   "cell_type": "code",
   "execution_count": 13,
   "id": "df20bf2b-0ba2-4aea-8099-8a2fe26d3e24",
   "metadata": {},
   "outputs": [],
   "source": [
    "plt.show()#简单展示"
   ]
  },
  {
   "cell_type": "code",
   "execution_count": null,
   "id": "422f3f59-887c-4529-939c-55556441411d",
   "metadata": {},
   "outputs": [],
   "source": []
  }
 ],
 "metadata": {
  "kernelspec": {
   "display_name": "Python (tutorial)",
   "language": "python",
   "name": "tutorial"
  },
  "language_info": {
   "codemirror_mode": {
    "name": "ipython",
    "version": 3
   },
   "file_extension": ".py",
   "mimetype": "text/x-python",
   "name": "python",
   "nbconvert_exporter": "python",
   "pygments_lexer": "ipython3",
   "version": "3.9.13"
  }
 },
 "nbformat": 4,
 "nbformat_minor": 5
}

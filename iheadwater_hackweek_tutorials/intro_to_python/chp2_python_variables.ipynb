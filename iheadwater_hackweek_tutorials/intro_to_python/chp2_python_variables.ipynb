{
 "cells": [
  {
   "cell_type": "markdown",
   "id": "755a92f6-960d-4f28-9404-cbffb516c695",
   "metadata": {
    "tags": []
   },
   "source": [
    "#  Python 中的变量\n",
    "\n",
    "## 1. 什么是Python变量\n",
    "\n",
    "编程中的变量是用来存储想在代码中重复使用的信息。我们在代码中保存的东西例如：\n",
    "\n",
    "- 数字值\n",
    "- 文件名\n",
    "- 路径\n",
    "- 或更大的数据集，如遥感图像或地形模型。\n",
    "\n",
    "在Python中， 可以在不明确定义它持有的数据类型的情况下创建变量。(例如，整数、文本字符串)。可以用下面的语法在Python中创建一个变量：`variable_name = value`"
   ]
  },
  {
   "cell_type": "code",
   "execution_count": 1,
   "id": "a47b76c6-c066-4424-9d67-59db9094ccb7",
   "metadata": {},
   "outputs": [
    {
     "data": {
      "text/plain": [
       "5"
      ]
     },
     "execution_count": 1,
     "metadata": {},
     "output_type": "execute_result"
    }
   ],
   "source": [
    "my_variable = 5\n",
    "my_variable"
   ]
  },
  {
   "cell_type": "markdown",
   "id": "3ffddcdd-d3d1-4e1b-b490-3783faba957e",
   "metadata": {},
   "source": [
    "无论是为变量分配数字值还是文本值，这种创建变量的语法都是相同的。例如，在下面为变量名称分配a值 3：`a = 3`\n",
    "\n",
    "这是将文本字符串值分配给名为的同一变量的示例`a`\n",
    "\n",
    "`a = \"a word\"`\n",
    "\n",
    "**注** ： 字符串（字符值）使用双引号\"\"来表示文本字符串值。"
   ]
  },
  {
   "cell_type": "markdown",
   "id": "a75f61ca-3dce-48a8-ae4d-210feccefa8d",
   "metadata": {},
   "source": [
    "**起变量名称是个技术活！**变量名要简短、清晰、便于阅读，因此要变面一下情况：\n",
    "\n",
    "- 变量名称中的空格\n",
    "- 复杂的措辞\n",
    "- 变量名称过长\n",
    "- 不代表变量所含内容的词语（例如 ：`my_variable` vs `precip_data` ）\n",
    "\n",
    "使用下划线（例如`boulder_precip_in`）创建多字变量名称是一种很好的做法，该名称提供有关变量内容的详细信息且易于阅读\n",
    "\n",
    "**变量是可以覆盖的**"
   ]
  },
  {
   "cell_type": "code",
   "execution_count": 1,
   "id": "f1c15c91-3fa7-43ee-a4fb-d24dca75fa14",
   "metadata": {},
   "outputs": [
    {
     "data": {
      "text/plain": [
       "55"
      ]
     },
     "execution_count": 1,
     "metadata": {},
     "output_type": "execute_result"
    }
   ],
   "source": [
    "temperature = 55\n",
    "temperature"
   ]
  },
  {
   "cell_type": "code",
   "execution_count": 2,
   "id": "94ebe43d-4eeb-4dc5-87cf-3f8422255b1d",
   "metadata": {},
   "outputs": [
    {
     "data": {
      "text/plain": [
       "20"
      ]
     },
     "execution_count": 2,
     "metadata": {},
     "output_type": "execute_result"
    }
   ],
   "source": [
    "temperature = 20\n",
    "temperature"
   ]
  },
  {
   "cell_type": "markdown",
   "id": "144f578b-ffb4-4f50-a113-f36034f5f10c",
   "metadata": {},
   "source": [
    "## 2. Python中的数据类型\n",
    "\n",
    "在编码时，了解Python的数据类型是很重要的。以下是不同类型的变量：\n",
    "\n",
    "- 数字 (整数和浮点数)\n",
    "- 字符串 (字母/字符和单词)"
   ]
  },
  {
   "cell_type": "markdown",
   "id": "8c47d194-6cd3-44cb-8129-c900558101e4",
   "metadata": {},
   "source": [
    "## 3. Python中的数字变量\n",
    "\n",
    "在Python中，可以创建变量来存储数值，如代表整数的integers（`int`）和代表小数的浮点数（`float`）。不需要定义哪种数字类型就可以创建一个变量，上述也论证过了。使用该`type()`函数来确定存储在变量中的数据类型"
   ]
  },
  {
   "cell_type": "code",
   "execution_count": 3,
   "id": "9463a929-b6b8-406a-8fda-7e69e10a6078",
   "metadata": {},
   "outputs": [
    {
     "data": {
      "text/plain": [
       "int"
      ]
     },
     "execution_count": 3,
     "metadata": {},
     "output_type": "execute_result"
    }
   ],
   "source": [
    "type(temperature)"
   ]
  },
  {
   "cell_type": "code",
   "execution_count": 4,
   "id": "2454a281-d393-4faf-93de-e3bcd4e5a601",
   "metadata": {},
   "outputs": [
    {
     "data": {
      "text/plain": [
       "20.23"
      ]
     },
     "execution_count": 4,
     "metadata": {},
     "output_type": "execute_result"
    }
   ],
   "source": [
    "boulder_precip_float = 20.23\n",
    "\n",
    "boulder_precip_float"
   ]
  },
  {
   "cell_type": "code",
   "execution_count": 5,
   "id": "8cead4ac-6989-4bb1-8ed6-18f095f956c1",
   "metadata": {},
   "outputs": [
    {
     "data": {
      "text/plain": [
       "float"
      ]
     },
     "execution_count": 5,
     "metadata": {},
     "output_type": "execute_result"
    }
   ],
   "source": [
    "type(boulder_precip_float)"
   ]
  },
  {
   "cell_type": "markdown",
   "id": "88320c42-5f6f-4c1b-9b14-76dfa43fa386",
   "metadata": {},
   "source": [
    "## 4. 存储文本变量：Python 中的 Strings\n",
    "\n",
    "要创建一个包含文本字符串（`str`）的变量，要在数值周围使用引号（\"\"），例如：`variable_name = \"text\"`\n",
    "\n",
    "虽然在Python中单引号(`''`)和双引号(`\"\"`)可以互换使用，但最好使用双引号`\"\"`来定义字符串(type == `str`)。使用引号，你可以创建包含单个单词或多个单词的 `str` 变量，包括标点符号。下面是一些创建字符串的例子:"
   ]
  },
  {
   "cell_type": "code",
   "execution_count": 6,
   "id": "55d89202-4ae1-4cae-a2b5-a67f94ea2830",
   "metadata": {},
   "outputs": [
    {
     "data": {
      "text/plain": [
       "'Boulder'"
      ]
     },
     "execution_count": 6,
     "metadata": {},
     "output_type": "execute_result"
    }
   ],
   "source": [
    "city = \"Boulder\"\n",
    "city"
   ]
  },
  {
   "cell_type": "code",
   "execution_count": 7,
   "id": "6599c6f2-d7a3-4bdf-bc39-dfea79c909e9",
   "metadata": {},
   "outputs": [
    {
     "data": {
      "text/plain": [
       "'Boulder, CO is the home of the University of Colorado, Boulder campus.'"
      ]
     },
     "execution_count": 7,
     "metadata": {},
     "output_type": "execute_result"
    }
   ],
   "source": [
    "city_description = \"Boulder, CO is the home of the University of Colorado, Boulder campus.\"\n",
    "city_description"
   ]
  },
  {
   "cell_type": "markdown",
   "id": "2943c48f-a3a0-4351-a5ac-a3e5364d839b",
   "metadata": {},
   "source": [
    "上述讲过，使用该`type()`函数来确定变量中存储的数据类型，`type()`函数同时可以检查变量的类型，如："
   ]
  },
  {
   "cell_type": "code",
   "execution_count": 8,
   "id": "4514995e-3e57-4a99-a1bb-cfbc8d0d0eca",
   "metadata": {},
   "outputs": [
    {
     "data": {
      "text/plain": [
       "str"
      ]
     },
     "execution_count": 8,
     "metadata": {},
     "output_type": "execute_result"
    }
   ],
   "source": [
    "city = \"Boulder\"\n",
    "type(city)"
   ]
  },
  {
   "cell_type": "markdown",
   "id": "6fd30b62-a74e-4030-b60a-d2d7f0bad2f8",
   "metadata": {},
   "source": [
    "**数字和字符串混合是什么情况呢？**"
   ]
  },
  {
   "cell_type": "code",
   "execution_count": 9,
   "id": "a0d9e33e-177f-4bfa-8824-72c0f5fbdb80",
   "metadata": {},
   "outputs": [
    {
     "data": {
      "text/plain": [
       "str"
      ]
     },
     "execution_count": 9,
     "metadata": {},
     "output_type": "execute_result"
    }
   ],
   "source": [
    "city_precip = \"20.68\"\n",
    "type(city_precip)"
   ]
  },
  {
   "cell_type": "code",
   "execution_count": 10,
   "id": "1959bdd6-5a7f-49a2-976e-c5c20e57d3b2",
   "metadata": {},
   "outputs": [
    {
     "data": {
      "text/plain": [
       "'20.6820.68'"
      ]
     },
     "execution_count": 10,
     "metadata": {},
     "output_type": "execute_result"
    }
   ],
   "source": [
    "city_precip * 2"
   ]
  },
  {
   "cell_type": "markdown",
   "id": "ec19ed9a-893a-4a58-ae4e-6e04730f77b9",
   "metadata": {},
   "source": [
    "因此，值本身对于确定变量是数字还是字符串类型并不重要——语法就是这样做的"
   ]
  }
 ],
 "metadata": {
  "kernelspec": {
   "display_name": "Python (tutorial)",
   "language": "python",
   "name": "tutorial"
  },
  "language_info": {
   "codemirror_mode": {
    "name": "ipython",
    "version": 3
   },
   "file_extension": ".py",
   "mimetype": "text/x-python",
   "name": "python",
   "nbconvert_exporter": "python",
   "pygments_lexer": "ipython3",
   "version": "3.9.13"
  }
 },
 "nbformat": 4,
 "nbformat_minor": 5
}

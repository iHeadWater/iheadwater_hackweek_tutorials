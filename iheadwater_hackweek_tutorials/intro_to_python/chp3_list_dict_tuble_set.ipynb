{
 "cells": [
  {
   "cell_type": "markdown",
   "id": "1cf91600-15cb-4309-b72f-83e20170e55d",
   "metadata": {},
   "source": [
    "#  list[]列表\n",
    "\n",
    "## 1. 什么是 Python 列表\n",
    "\n",
    "**Python**列表是一种数据结构，它以指定的顺序 (或序列) 存储值或对象的集合。**Python**列表的一些特征有：\n",
    "- 它们是可变的，这意味着它们可以被改变或更新。\n",
    "- **Python**列表可以存储不同类型的对象和不同的数据类型。因此，例如一个列表可以包含 `int`、`float` 和 `str` 值的混合。一个列表还可以包含子列表、数组和其它**Python**数据结构。\n",
    "- **Python**列表是用**方括号**创建的，对象用**逗号**分隔,像这样` [1,2,3]`\n",
    "\n",
    "### 1.1 Python 列表中的项目可以使用索引进行子集处理\n",
    "\n",
    "列表中的每个值都被称为一个项目。由于列表是按指定顺序排列的项的序列，所以列表中每个项的位置或顺序号都有一个标签。这个顺序标签被称为**索引**。**索引**允许列表是可迭代的，这意味着可以按照项目在列表对象中出现的顺序访问列表中的每个项目。\n",
    "\n",
    "### 1.2 列表索引\n",
    "\n",
    "可以在 **Python** 中使用一个索引值来访问列表中的对象。默认情况下，Python 的索引总是从 `[0]` 开始，而不是 `[1]`。因此，Python 列表中的第一个项目有一个索引 `[0]`，列表中的第二个项目有一个索引 `[1]`，以此类推，可以使用一个项的索引来访问它的值。例如，使用索引 `[1]` 来获取以下列表中第 2 项 `(0.75)` 的值 `[0.70, 0.75, 1.85]`。"
   ]
  },
  {
   "cell_type": "markdown",
   "id": "72d8fb53-cd64-497f-ae34-a3e26a577285",
   "metadata": {},
   "source": [
    "## 2. 如何创建列表\n",
    "\n",
    "用以下语法创建Python列表：`list_name = [item_1, item_2, item_3]`\n",
    "\n",
    "这些值（列表中的项目）括在方括号`[]`内，并使用逗号相互分隔。还可以创建`str`值列表，使用引号将各个文本字符串括起来`\"\"`即可"
   ]
  },
  {
   "cell_type": "code",
   "execution_count": 1,
   "id": "b07f7e5d-0299-401b-a6f9-66ef5bb03162",
   "metadata": {},
   "outputs": [
    {
     "data": {
      "text/plain": [
       "['January', 'February', 'March']"
      ]
     },
     "execution_count": 1,
     "metadata": {},
     "output_type": "execute_result"
    }
   ],
   "source": [
    "months = [\"January\", \"February\", \"March\"]\n",
    "months"
   ]
  },
  {
   "cell_type": "markdown",
   "id": "4464faae-2a7e-48d1-934a-c998657695d1",
   "metadata": {},
   "source": [
    "还可以创建一个包含不同类型数据（例如int、float、str）的列表，包括其他定义的变量"
   ]
  },
  {
   "cell_type": "code",
   "execution_count": 2,
   "id": "58129881-6541-4894-bf15-8eb5b1a96748",
   "metadata": {},
   "outputs": [
    {
     "data": {
      "text/plain": [
       "[1, 0.7, 'January']"
      ]
     },
     "execution_count": 2,
     "metadata": {},
     "output_type": "execute_result"
    }
   ],
   "source": [
    "jan = 0.70\n",
    "boulder_avg_precip = [1, jan, \"January\"]\n",
    "boulder_avg_precip"
   ]
  },
  {
   "cell_type": "markdown",
   "id": "e2615dc6-2d4f-49e3-a23f-49b960ca2c37",
   "metadata": {},
   "source": [
    "**为什么值`jan`会转换为0.7呢？**"
   ]
  },
  {
   "cell_type": "markdown",
   "id": "9d90ff18-8cff-4450-9e65-255dee3dd1de",
   "metadata": {},
   "source": [
    "与上节一样，课使用type（）函数确定对象类型"
   ]
  },
  {
   "cell_type": "code",
   "execution_count": 3,
   "id": "e8b1695f-fca5-4170-9b26-077f62ae2123",
   "metadata": {},
   "outputs": [
    {
     "data": {
      "text/plain": [
       "list"
      ]
     },
     "execution_count": 3,
     "metadata": {},
     "output_type": "execute_result"
    }
   ],
   "source": [
    "type(boulder_avg_precip)"
   ]
  },
  {
   "cell_type": "markdown",
   "id": "317d50b6-63ac-4774-ba0c-77f53d4e826c",
   "metadata": {},
   "source": [
    "## 2.1 使用len()打印列表的长度\n",
    "\n",
    "要有效地使用列表索引，了解列表的长度会很有帮助。在这种情况下，长度是指列表中存储了多少项目。可以使用`len()`函数通过将列表的名称作为参数或输入来查询长度，如下所示：`len(list_name)`"
   ]
  },
  {
   "cell_type": "code",
   "execution_count": 4,
   "id": "0b4e620a-5ab4-4df9-9e25-2b22d7f33dd1",
   "metadata": {},
   "outputs": [
    {
     "data": {
      "text/plain": [
       "['January', 'February', 'March']"
      ]
     },
     "execution_count": 4,
     "metadata": {},
     "output_type": "execute_result"
    }
   ],
   "source": [
    "months"
   ]
  },
  {
   "cell_type": "code",
   "execution_count": 5,
   "id": "b1c7f52e-d62a-4e38-99b1-f7bb9888f9b3",
   "metadata": {},
   "outputs": [
    {
     "name": "stdout",
     "output_type": "stream",
     "text": [
      "The length of the months list is: 3\n"
     ]
    }
   ],
   "source": [
    "print(\"The length of the months list is:\", len(months))"
   ]
  },
  {
   "cell_type": "markdown",
   "id": "f2ad39f7-c541-49d7-8945-459fd3c536cc",
   "metadata": {},
   "source": [
    "## 3. 访问存储在列表中的对象：索引\n",
    "\n",
    "上诉提及索引，大家尝试索引`months`列表的第三个值吧。如果想索引最后一个值，可以用`-1`做索引，例如`months[-1]`，查看一下是不是`months`最后一个值吧。以此类推，可以获取倒数第2个、倒数第3个，`months[-2]` `months[-3]`,当然倒数第4个就越界了"
   ]
  },
  {
   "cell_type": "markdown",
   "id": "55144e9e-1d73-4ce2-a75d-aaf39a25c608",
   "metadata": {},
   "source": [
    "## 4. 更新（替换）列表中的项目\n",
    "\n",
    "除了查询值之外，我们还可以使用列表索引来更新列表中的项目，方法是为该索引位置分配一个新值，例如：`months[index] = value`"
   ]
  },
  {
   "cell_type": "code",
   "execution_count": 6,
   "id": "423e0e40-ef58-44fb-9bf0-81ae6137eb7c",
   "metadata": {},
   "outputs": [
    {
     "data": {
      "text/plain": [
       "['January', 'Feb', 'March']"
      ]
     },
     "execution_count": 6,
     "metadata": {},
     "output_type": "execute_result"
    }
   ],
   "source": [
    "months[1] = \"Feb\"\n",
    "months"
   ]
  },
  {
   "cell_type": "markdown",
   "id": "4235f67d-9fb8-46ef-899d-825d1424d9ca",
   "metadata": {},
   "source": [
    "## 5. 将项目插入列表\n",
    "\n",
    "还可以使用列表索引将新项目插入到列表中，方法是指定新值位于哪个索引位置，如：`list_name.insert(0, value)`\n",
    "\n",
    "下面示例中，月份列表不完整，并且将**一月的值**插入到列表的**开头**，如下："
   ]
  },
  {
   "cell_type": "code",
   "execution_count": 7,
   "id": "72b2a8c3-6ebd-4adc-83af-e5ab948b0e5e",
   "metadata": {},
   "outputs": [
    {
     "data": {
      "text/plain": [
       "'February'"
      ]
     },
     "execution_count": 7,
     "metadata": {},
     "output_type": "execute_result"
    }
   ],
   "source": [
    "# Month list missing the first value for January\n",
    "months = [\"February\", \"March\"]\n",
    "\n",
    "# check index value at 0\n",
    "months[0]"
   ]
  },
  {
   "cell_type": "code",
   "execution_count": 8,
   "id": "a46118a2-17a2-4c8a-b532-9f40e6591087",
   "metadata": {},
   "outputs": [
    {
     "data": {
      "text/plain": [
       "['January', 'February', 'March']"
      ]
     },
     "execution_count": 8,
     "metadata": {},
     "output_type": "execute_result"
    }
   ],
   "source": [
    "# Modify list to add January at the beginning\n",
    "months.insert(0, \"January\")\n",
    "months"
   ]
  },
  {
   "cell_type": "code",
   "execution_count": 9,
   "id": "25d8be1c-6503-4a71-a0f3-789415c5100e",
   "metadata": {},
   "outputs": [
    {
     "data": {
      "text/plain": [
       "'January'"
      ]
     },
     "execution_count": 9,
     "metadata": {},
     "output_type": "execute_result"
    }
   ],
   "source": [
    "# Check index value at 0 in modified list\n",
    "months[0]"
   ]
  },
  {
   "cell_type": "markdown",
   "id": "20b19d0a-f846-41b2-841f-5143b0c0a77d",
   "metadata": {},
   "source": [
    "## 6. 从列表中删除项目\n",
    "\n",
    "可以使用`del`语句从现有列表中删除不需要的项目： `del list_name[index]`\n",
    "\n",
    "在使用列表索引修改列表之前，最好检查一下列表的长度"
   ]
  },
  {
   "cell_type": "code",
   "execution_count": 10,
   "id": "92039065-e962-4398-9dd0-88575881d89b",
   "metadata": {},
   "outputs": [
    {
     "data": {
      "text/plain": [
       "['January', 'February']"
      ]
     },
     "execution_count": 10,
     "metadata": {},
     "output_type": "execute_result"
    }
   ],
   "source": [
    "del months[2]\n",
    "months"
   ]
  },
  {
   "cell_type": "markdown",
   "id": "6d94781f-2147-496c-9530-783421a81b25",
   "metadata": {},
   "source": [
    "删除列表末尾元素也可用`pop()`方法"
   ]
  },
  {
   "cell_type": "code",
   "execution_count": 11,
   "id": "e95a7e4d-7988-494e-a252-41921ee4a356",
   "metadata": {},
   "outputs": [
    {
     "data": {
      "text/plain": [
       "[1, 2, 3]"
      ]
     },
     "execution_count": 11,
     "metadata": {},
     "output_type": "execute_result"
    }
   ],
   "source": [
    "a = [1,2,3,4]\n",
    "a.pop()\n",
    "a"
   ]
  },
  {
   "cell_type": "markdown",
   "id": "24b55572-10cc-48fd-b15a-a2101d4c0d4f",
   "metadata": {},
   "source": [
    "要删除指定位置的元素，用`pop(i)`方法，其中`i`是索引位置，需要注意的是，索引是从`0`开始的："
   ]
  },
  {
   "cell_type": "code",
   "execution_count": 12,
   "id": "2c56ff43-1457-4feb-8d21-9c8d495f993f",
   "metadata": {},
   "outputs": [
    {
     "data": {
      "text/plain": [
       "[2, 3]"
      ]
     },
     "execution_count": 12,
     "metadata": {},
     "output_type": "execute_result"
    }
   ],
   "source": [
    "a.pop(0)\n",
    "a"
   ]
  },
  {
   "cell_type": "markdown",
   "id": "6aac368e-d04e-4446-990a-d53a37071b64",
   "metadata": {},
   "source": [
    "## 7. 将项目附加到列表\n",
    "\n",
    "要在列表的**末尾**添加一个项目，可以使用与列表相关的 `.append() `函数。调用这个方法向列表中添加数值:`listname.append(value)`"
   ]
  },
  {
   "cell_type": "code",
   "execution_count": 13,
   "id": "397af4f9-2b9c-4e19-9062-f47a71bf866d",
   "metadata": {},
   "outputs": [
    {
     "data": {
      "text/plain": [
       "['January', 'February', 'March']"
      ]
     },
     "execution_count": 13,
     "metadata": {},
     "output_type": "execute_result"
    }
   ],
   "source": [
    "months.append(\"March\")\n",
    "months"
   ]
  },
  {
   "cell_type": "markdown",
   "id": "0dac97fb-4277-4316-a2c1-83ae24de463d",
   "metadata": {},
   "source": [
    "还可以使用添加操作`+`将项目添加到列表中：`listname = [value] + listname`"
   ]
  },
  {
   "cell_type": "code",
   "execution_count": 14,
   "id": "2281d1d7-e38d-465b-872f-fe1798f45a46",
   "metadata": {},
   "outputs": [
    {
     "data": {
      "text/plain": [
       "['月份', 'January', 'February', 'March']"
      ]
     },
     "execution_count": 14,
     "metadata": {},
     "output_type": "execute_result"
    }
   ],
   "source": [
    "months = [\"月份\"] + months\n",
    "months"
   ]
  },
  {
   "cell_type": "code",
   "execution_count": 15,
   "id": "04aa6da1-a574-4bb7-899f-1973f98177b1",
   "metadata": {},
   "outputs": [
    {
     "data": {
      "text/plain": [
       "[123, '月份', 'January', 'February', 'March']"
      ]
     },
     "execution_count": 15,
     "metadata": {},
     "output_type": "execute_result"
    }
   ],
   "source": [
    "months = [123] + months\n",
    "\n",
    "months"
   ]
  },
  {
   "cell_type": "markdown",
   "id": "d03624eb-3440-4302-b704-29487b294920",
   "metadata": {},
   "source": [
    "# dict{} 字典\n",
    "\n",
    "**Python**内置了字典：`dict`的支持，`dict`全称`dictionary`，使用`{}`与**键-值**（`key-value`）存储，具有极快的查找速度。\n",
    "\n",
    "举个例子，假设要根据同学的名字查找对应的成绩，如果用`list`实现，需要两个`list`："
   ]
  },
  {
   "cell_type": "code",
   "execution_count": 16,
   "id": "36cf00b5-f169-4dfe-a35e-e8e9e18ca107",
   "metadata": {},
   "outputs": [],
   "source": [
    "names = ['Michael', 'Bob', 'Tracy']\n",
    "scores = [95, 75, 85]"
   ]
  },
  {
   "cell_type": "markdown",
   "id": "eb9d1834-4f1c-4d51-a7a3-ebad7fd0ef61",
   "metadata": {},
   "source": [
    "给定一个名字，要查找对应的成绩，就先要在`names`中找到对应的位置，再从`scores`取出对应的成绩，`list`越长，耗时越长。如果用`dict`实现，只需要一个“名字”-“成绩”的对照表，直接根据名字查找成绩，无论这个表有多大，查找速度都不会变慢。写一个`dict`如下："
   ]
  },
  {
   "cell_type": "code",
   "execution_count": 17,
   "id": "a4adea5c-7a6c-42c8-8fa1-3edc55102c22",
   "metadata": {},
   "outputs": [
    {
     "data": {
      "text/plain": [
       "95"
      ]
     },
     "execution_count": 17,
     "metadata": {},
     "output_type": "execute_result"
    }
   ],
   "source": [
    "d = {'Michael': 95, 'Bob': 75, 'Tracy': 85}\n",
    "d['Michael']"
   ]
  },
  {
   "cell_type": "markdown",
   "id": "41ba9cc4-0081-4648-bc53-4faf78bd9dc6",
   "metadata": {},
   "source": [
    "为什么`dict`查找速度这么快？因为`dict`的实现原理和查字典是一样的。假设字典包含了1万个汉字，我们要查某一个字，一个办法是把字典从第一页往后翻，直到找到我们想要的字为止，这种方法就是在list中查找元素的方法，list越大，查找越慢。\n",
    "\n",
    "第二种方法是先在字典的索引表里（比如部首表）查这个字对应的页码，然后直接翻到该页，找到这个字。无论找哪个字，这种查找速度都非常快，不会随着字典大小的增加而变慢。\n",
    "\n",
    "`dict`就是第二种实现方式，给定一个名字，比如`'Michael'`，`dict`在内部就可以直接计算出`Michael`对应的存放成绩的“页码”，也就是`95`这个数字存放的内存地址，直接取出来，所以速度非常快。\n",
    "\n",
    "可以猜到，这种`key-value`存储方式，在放进去的时候，必须根据`key`算出`value`的存放位置，这样，取的时候才能根据`key`直接拿到`value`。\n",
    "\n",
    "把数据放入`dict`的方法，除了初始化时指定外，还可以通过`key`放入："
   ]
  },
  {
   "cell_type": "code",
   "execution_count": 18,
   "id": "18372bd0-c16b-4ace-a6f6-2c07d698b294",
   "metadata": {},
   "outputs": [
    {
     "data": {
      "text/plain": [
       "{'Michael': 95, 'Bob': 75, 'Tracy': 85, 'Adam': 67}"
      ]
     },
     "execution_count": 18,
     "metadata": {},
     "output_type": "execute_result"
    }
   ],
   "source": [
    "d = {'Michael': 95, 'Bob': 75, 'Tracy': 85}\n",
    "d['Adam'] = 67\n",
    "d"
   ]
  },
  {
   "cell_type": "markdown",
   "id": "7d147093-a109-47c1-aa5d-d32ab1a2de57",
   "metadata": {},
   "source": [
    "由于一个key只能对应一个value，所以，多次对一个key放入value，后面的值会把前面的值冲掉："
   ]
  },
  {
   "cell_type": "code",
   "execution_count": 19,
   "id": "481207ec-8cb5-45fb-a3c6-adc7fecbc5c5",
   "metadata": {},
   "outputs": [
    {
     "data": {
      "text/plain": [
       "90"
      ]
     },
     "execution_count": 19,
     "metadata": {},
     "output_type": "execute_result"
    }
   ],
   "source": [
    "d['Jack'] = 90\n",
    "d['Jack']"
   ]
  },
  {
   "cell_type": "code",
   "execution_count": 20,
   "id": "91e52977-a8ee-4c64-8f72-690f06e831c7",
   "metadata": {},
   "outputs": [
    {
     "data": {
      "text/plain": [
       "88"
      ]
     },
     "execution_count": 20,
     "metadata": {},
     "output_type": "execute_result"
    }
   ],
   "source": [
    "d['Jack'] = 88\n",
    "d['Jack']"
   ]
  },
  {
   "cell_type": "markdown",
   "id": "57c8f515-8e0b-4af6-8076-28d920877148",
   "metadata": {},
   "source": [
    "如果key不存在，dict就会报错："
   ]
  },
  {
   "cell_type": "code",
   "execution_count": 21,
   "id": "35ee32ce-ed6f-4ad3-9d09-aa3bbf4280a9",
   "metadata": {},
   "outputs": [
    {
     "ename": "KeyError",
     "evalue": "'Thomas'",
     "output_type": "error",
     "traceback": [
      "\u001b[1;31m---------------------------------------------------------------------------\u001b[0m",
      "\u001b[1;31mKeyError\u001b[0m                                  Traceback (most recent call last)",
      "\u001b[1;32m~\\AppData\\Local\\Temp/ipykernel_20112/219046090.py\u001b[0m in \u001b[0;36m<module>\u001b[1;34m\u001b[0m\n\u001b[1;32m----> 1\u001b[1;33m \u001b[0md\u001b[0m\u001b[1;33m[\u001b[0m\u001b[1;34m'Thomas'\u001b[0m\u001b[1;33m]\u001b[0m\u001b[1;33m\u001b[0m\u001b[1;33m\u001b[0m\u001b[0m\n\u001b[0m",
      "\u001b[1;31mKeyError\u001b[0m: 'Thomas'"
     ]
    }
   ],
   "source": [
    "d['Thomas']"
   ]
  },
  {
   "cell_type": "markdown",
   "id": "ea615118-f7c4-4ca5-985a-fba194c221ae",
   "metadata": {},
   "source": [
    "要避免`key`不存在的错误，有两种办法，一是通过`in`判断`key`是否存在:"
   ]
  },
  {
   "cell_type": "code",
   "execution_count": 22,
   "id": "a408658a-3a89-4d7a-b216-8c7e3503ec6d",
   "metadata": {},
   "outputs": [
    {
     "data": {
      "text/plain": [
       "False"
      ]
     },
     "execution_count": 22,
     "metadata": {},
     "output_type": "execute_result"
    }
   ],
   "source": [
    "'Thomas' in d"
   ]
  },
  {
   "cell_type": "markdown",
   "id": "e9f9991b-1700-46da-b2c7-3ec8e9e8e025",
   "metadata": {},
   "source": [
    "二是通过`dict`提供的`get()`方法，如果`key`不存在，可以返回`None`，或者自己指定的`value`："
   ]
  },
  {
   "cell_type": "code",
   "execution_count": 23,
   "id": "781a4675-85dc-4e5d-bcfb-bdca15a2146d",
   "metadata": {},
   "outputs": [
    {
     "data": {
      "text/plain": [
       "-1"
      ]
     },
     "execution_count": 23,
     "metadata": {},
     "output_type": "execute_result"
    }
   ],
   "source": [
    "d.get('Thomas')\n",
    "d.get('Thomas', -1)"
   ]
  },
  {
   "cell_type": "markdown",
   "id": "fb8ce683-84d4-4240-9ff9-e3ff40a0f81c",
   "metadata": {},
   "source": [
    "**注意** : 返回None的时候Python的交互环境不显示结果。\n",
    "\n",
    "要删除一个`key`，用`pop(key)`方法，对应的`value`也会从`dict`中删除："
   ]
  },
  {
   "cell_type": "code",
   "execution_count": 24,
   "id": "7e310259-40f7-45cf-bac1-4e2544e59943",
   "metadata": {},
   "outputs": [
    {
     "data": {
      "text/plain": [
       "75"
      ]
     },
     "execution_count": 24,
     "metadata": {},
     "output_type": "execute_result"
    }
   ],
   "source": [
    "d.pop('Bob')"
   ]
  },
  {
   "cell_type": "code",
   "execution_count": 25,
   "id": "a2a74206-d8c9-420b-80d7-96b7b97f28cd",
   "metadata": {},
   "outputs": [
    {
     "data": {
      "text/plain": [
       "{'Michael': 95, 'Tracy': 85, 'Adam': 67, 'Jack': 88}"
      ]
     },
     "execution_count": 25,
     "metadata": {},
     "output_type": "execute_result"
    }
   ],
   "source": [
    "d"
   ]
  },
  {
   "cell_type": "markdown",
   "id": "cd979078-0b19-410c-ada1-792b173be4b1",
   "metadata": {},
   "source": [
    "和`list`比较，`dict`有以下几个特点：\n",
    "\n",
    "1. 查找和插入的速度极快，不会随着key的增加而变慢；\n",
    "2. 需要占用大量的内存，内存浪费多。\n",
    "\n",
    "而`list`相反：\n",
    "\n",
    "1. 查找和插入的时间随着元素的增加而增加；\n",
    "2. 占用空间小，浪费内存很少。\n",
    "\n",
    "所以，`dict`是用空间来换取时间的一种方法。\n",
    "\n",
    "`dict`可以用在需要高速查找的很多地方，在**Python**代码中几乎无处不在，正确使用`dict`非常重要，需要牢记的第一条就是dict的key必须是**不可变对象**。\n",
    "    \n",
    "这是因为`dict`根据`key`来计算`value`的存储位置，如果每次计算相同的`key`得出的结果不同，那`dict`内部就完全混乱了。这个通过`key`计算位置的算法称为哈希算法（Hash）。\n",
    "\n",
    "要保证hash的正确性，作为`key`的对象就不能变。在**Python**中，字符串、整数等都是不可变的，因此，可以放心地作为`key`。而`list`是可变的，就不能作为`key`："
   ]
  },
  {
   "cell_type": "code",
   "execution_count": 26,
   "id": "8a2acabf-60ac-4e04-b0b5-366cc2594e56",
   "metadata": {},
   "outputs": [
    {
     "ename": "TypeError",
     "evalue": "unhashable type: 'list'",
     "output_type": "error",
     "traceback": [
      "\u001b[1;31m---------------------------------------------------------------------------\u001b[0m",
      "\u001b[1;31mTypeError\u001b[0m                                 Traceback (most recent call last)",
      "\u001b[1;32m~\\AppData\\Local\\Temp/ipykernel_20112/206909650.py\u001b[0m in \u001b[0;36m<module>\u001b[1;34m\u001b[0m\n\u001b[0;32m      1\u001b[0m \u001b[0mkey\u001b[0m \u001b[1;33m=\u001b[0m \u001b[1;33m[\u001b[0m\u001b[1;36m1\u001b[0m\u001b[1;33m,\u001b[0m \u001b[1;36m2\u001b[0m\u001b[1;33m,\u001b[0m \u001b[1;36m3\u001b[0m\u001b[1;33m]\u001b[0m\u001b[1;33m\u001b[0m\u001b[1;33m\u001b[0m\u001b[0m\n\u001b[1;32m----> 2\u001b[1;33m \u001b[0md\u001b[0m\u001b[1;33m[\u001b[0m\u001b[0mkey\u001b[0m\u001b[1;33m]\u001b[0m \u001b[1;33m=\u001b[0m \u001b[1;34m'a list'\u001b[0m\u001b[1;33m\u001b[0m\u001b[1;33m\u001b[0m\u001b[0m\n\u001b[0m",
      "\u001b[1;31mTypeError\u001b[0m: unhashable type: 'list'"
     ]
    }
   ],
   "source": [
    "key = [1, 2, 3]   \n",
    "d[key] = 'a list'"
   ]
  },
  {
   "cell_type": "markdown",
   "id": "972a1d9b-c6bb-4855-a80a-18b39349ae8e",
   "metadata": {},
   "source": [
    "# tuple() 元组\n",
    "\n",
    "另一种有序列表叫元组：`tuple`。`tuble`用的是小括号`()`。`tuple`和`list`非常类似，但是`tuple`一旦初始化就不能修改，比如列出同学的名字:`classmates = ('Michael', 'Bob', 'Tracy')`\n",
    "\n",
    "现在，`classmates`这个`tuple`不能变了，它也没有`append()`，`insert()`这样的方法。其他获取元素的方法和`list`是一样的，我们可以正常地使用`classmates[0]`，`classmates[-1]`，但**不能赋值**成另外的元素。\n",
    "\n",
    "**不可变的tuple有什么意义？**\n",
    "\n",
    "因为`tuple`不可变，所以代码更安全！如果可能，能用`tuple`代替`list`就尽量用`tuple`。\n",
    "\n",
    "定义一个只有1个元素的tuple，如果我们这么定义："
   ]
  },
  {
   "cell_type": "code",
   "execution_count": 27,
   "id": "424fe302-1e70-42b3-b459-a2a57e6e72a6",
   "metadata": {},
   "outputs": [
    {
     "data": {
      "text/plain": [
       "1"
      ]
     },
     "execution_count": 27,
     "metadata": {},
     "output_type": "execute_result"
    }
   ],
   "source": [
    "t = (1)\n",
    "t"
   ]
  },
  {
   "cell_type": "markdown",
   "id": "9c939868-460c-434b-8ba7-dd48f984ffc4",
   "metadata": {},
   "source": [
    "定义的不是`tuple`，是`1`这个数！这是因为括号`()`既可以表示`tuple`，又可以表示数学公式中的小括号，这就产生了歧义，因此，**Python**规定，这种情况下，按小括号进行计算，计算结果自然是`1`。\n",
    "\n",
    "所以，只有1个元素的tuple定义时必须加一个逗号`,`，来消除歧义："
   ]
  },
  {
   "cell_type": "code",
   "execution_count": 28,
   "id": "e29b2091-da6f-4faa-afca-b123c7277b1f",
   "metadata": {},
   "outputs": [
    {
     "data": {
      "text/plain": [
       "(1,)"
      ]
     },
     "execution_count": 28,
     "metadata": {},
     "output_type": "execute_result"
    }
   ],
   "source": [
    "t = (1,)\n",
    "t"
   ]
  },
  {
   "cell_type": "markdown",
   "id": "16e6edde-430c-453d-b9df-e59c82108208",
   "metadata": {},
   "source": [
    "## “可变的”tuple"
   ]
  },
  {
   "cell_type": "code",
   "execution_count": 29,
   "id": "936295f7-83c7-45b8-bea9-8c4412d22deb",
   "metadata": {},
   "outputs": [
    {
     "data": {
      "text/plain": [
       "('a', 'b', ['X', 'Y'])"
      ]
     },
     "execution_count": 29,
     "metadata": {},
     "output_type": "execute_result"
    }
   ],
   "source": [
    "t = ('a', 'b', ['A', 'B'])\n",
    "t[2][0] = 'X'\n",
    "t[2][1] = 'Y'\n",
    "t"
   ]
  },
  {
   "cell_type": "markdown",
   "id": "ad93d54b-0499-4272-ba85-7c5b1db3faff",
   "metadata": {},
   "source": [
    "这个`tuple`定义的时候有3个元素，分别是`'a'`，`'b'`和一个list。不是说`tuple`一旦定义后就不可变了吗？怎么后来又变了？\n",
    "\n",
    "当我们把`list`的元素`'A'`和`'B'`修改为`'X'和'Y'`后，表面上看，`tuple`的元素确实变了，但其实变的不是`tuple`的元素，而是`list`的元素。所以，`tuple`所谓的“不变”是说，`tuple`的每个元素，指向永远不变。即指向`'a'`，就不能改成指向`'b'`，指向一个`list`，就不能改成指向其他对象，但指向的这个`list`本身是可变的！\n",
    "\n",
    "理解了“指向不变”后，要创建一个内容也不变的`tuple`怎么做？那就必须保证`tuple`的每一个元素本身也不能变。"
   ]
  },
  {
   "cell_type": "markdown",
   "id": "40b9f505-5e1f-4ca3-91ba-6870896c5362",
   "metadata": {},
   "source": [
    "## 练习\n",
    "\n",
    "请用索引取出下面`list`的指定元素："
   ]
  },
  {
   "cell_type": "markdown",
   "id": "20b3c118-b940-485d-a72f-665bef1a2100",
   "metadata": {},
   "source": [
    "```Python\n",
    "L = [\n",
    "    ['Apple', 'Google', 'Microsoft'],\n",
    "    ['Java', 'Python', 'Ruby', 'PHP'],\n",
    "    ['Adam', 'Bart', 'Lisa']\n",
    "]\n",
    "\n",
    "#打印Apple:\n",
    "\n",
    "print(?)\n",
    "\n",
    "#打印Python:\n",
    "\n",
    "print(?)\n",
    "\n",
    "#打印Lisa:\n",
    "\n",
    "print(?)\n",
    "```"
   ]
  },
  {
   "cell_type": "markdown",
   "id": "87870562-5719-4d60-b432-8009106eccf8",
   "metadata": {},
   "source": [
    "# set() 集合\n",
    "\n",
    "`set`和`dict`类似，也是一组`key`的集合，但不存储`value`。由于`key`不能重复，所以，在`set`中，没有重复的`key`。\n",
    "\n",
    "要创建一个set，需要提供一个list作为输入集合："
   ]
  },
  {
   "cell_type": "code",
   "execution_count": 30,
   "id": "579b361d-d77a-4f72-b28f-720bbf9282df",
   "metadata": {},
   "outputs": [
    {
     "data": {
      "text/plain": [
       "{1, 2, 3}"
      ]
     },
     "execution_count": 30,
     "metadata": {},
     "output_type": "execute_result"
    }
   ],
   "source": [
    "s = set([1, 2, 3])\n",
    "s"
   ]
  },
  {
   "cell_type": "markdown",
   "id": "0a484329-5383-4f8a-a0af-1124d6c23e2a",
   "metadata": {},
   "source": [
    "注意，传入的参数`[1, 2, 3]`是一个`list`，而显示的`{1, 2, 3}`只是告诉你这个set内部有1，2，3这3个元素，显示的顺序也不表示`set`是有序的。\n",
    "\n",
    "重复元素在`set`中自动被过滤："
   ]
  },
  {
   "cell_type": "code",
   "execution_count": 31,
   "id": "cd4051fa-25ab-4450-9fc5-208b630ea0c0",
   "metadata": {},
   "outputs": [
    {
     "data": {
      "text/plain": [
       "{1, 2, 3}"
      ]
     },
     "execution_count": 31,
     "metadata": {},
     "output_type": "execute_result"
    }
   ],
   "source": [
    "s = set([1, 1, 2, 2, 3, 3])\n",
    "s"
   ]
  },
  {
   "cell_type": "markdown",
   "id": "68db60f5-25f5-4164-8dd8-b9920d02b93e",
   "metadata": {},
   "source": [
    "**添加元素**\n",
    "\n",
    "通过`add(key)`方法可以添加元素到`set`中，可以重复添加，但不会有效果："
   ]
  },
  {
   "cell_type": "code",
   "execution_count": 32,
   "id": "b7c27866-5907-4710-a739-a5358c7f384d",
   "metadata": {},
   "outputs": [
    {
     "data": {
      "text/plain": [
       "{1, 2, 3, 4}"
      ]
     },
     "execution_count": 32,
     "metadata": {},
     "output_type": "execute_result"
    }
   ],
   "source": [
    "s.add(4)\n",
    "s"
   ]
  },
  {
   "cell_type": "markdown",
   "id": "ec0740c8-610d-468a-b4c8-ed873e84b9f6",
   "metadata": {},
   "source": [
    "**删除元素**\n",
    "\n",
    "通过`remove(key)`方法可以删除元素："
   ]
  },
  {
   "cell_type": "code",
   "execution_count": 33,
   "id": "1452cbcd-f4d1-4fdd-aa4e-9012c9f4489a",
   "metadata": {},
   "outputs": [
    {
     "data": {
      "text/plain": [
       "{1, 2, 3}"
      ]
     },
     "execution_count": 33,
     "metadata": {},
     "output_type": "execute_result"
    }
   ],
   "source": [
    "s.remove(4)\n",
    "s"
   ]
  },
  {
   "cell_type": "markdown",
   "id": "e247c4b1-1a1d-4d2d-9d5d-474f6fa9481a",
   "metadata": {},
   "source": [
    "`set`可以看成数学意义上的无序和无重复元素的集合，因此，两个`set`可以做数学意义上的交集、并集等操作："
   ]
  },
  {
   "cell_type": "code",
   "execution_count": 34,
   "id": "1ddfd6c4-3f06-4f7c-a29c-c62fcb0683c5",
   "metadata": {},
   "outputs": [
    {
     "data": {
      "text/plain": [
       "{2, 3}"
      ]
     },
     "execution_count": 34,
     "metadata": {},
     "output_type": "execute_result"
    }
   ],
   "source": [
    "s1 = set([1, 2, 3])\n",
    "s2 = set([2, 3, 4])\n",
    "s1 & s2"
   ]
  },
  {
   "cell_type": "code",
   "execution_count": 35,
   "id": "0d1450c0-48a0-4ed1-b114-95fc555f1675",
   "metadata": {},
   "outputs": [
    {
     "data": {
      "text/plain": [
       "{1, 2, 3, 4}"
      ]
     },
     "execution_count": 35,
     "metadata": {},
     "output_type": "execute_result"
    }
   ],
   "source": [
    "s1 | s2"
   ]
  },
  {
   "cell_type": "markdown",
   "id": "22f0c3db-f21a-4d49-9880-b88bc9e9df0f",
   "metadata": {},
   "source": [
    "`set`和`dict`的唯一区别仅在于没有存储对应的`value`，但是，`set`的原理和`dict`一样，所以，同样不可以放入可变对象，因为无法判断两个可变对象是否相等，也就无法保证`set`内部“不会有重复元素”。试试把`list`放入`set`，看看是否会报错。"
   ]
  }
 ],
 "metadata": {
  "kernelspec": {
   "display_name": "Python (tutorial)",
   "language": "python",
   "name": "tutorial"
  },
  "language_info": {
   "codemirror_mode": {
    "name": "ipython",
    "version": 3
   },
   "file_extension": ".py",
   "mimetype": "text/x-python",
   "name": "python",
   "nbconvert_exporter": "python",
   "pygments_lexer": "ipython3",
   "version": "3.9.13"
  }
 },
 "nbformat": 4,
 "nbformat_minor": 5
}

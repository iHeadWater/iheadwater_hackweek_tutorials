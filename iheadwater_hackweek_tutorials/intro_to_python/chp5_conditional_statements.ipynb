{
 "cells": [
  {
   "cell_type": "markdown",
   "id": "daa65365-26d1-40ef-b860-b2ff6ecd59ce",
   "metadata": {},
   "source": [
    "# 条件语句\n",
    "\n",
    "在本课程及第6与第7课程中，我们将了解 **Python** 中条件语句的结构，以及如何使用它们在**Python**中编写 DRY（(Don’t Repeat Yourself）代码。\n",
    "\n",
    "通过实现编写代码的 DRY 策略，我们可以使代码：\n",
    "\n",
    "1. 更容易理解和阅读，从而支持可重复性。\n",
    "2. 更容易更新，因为只需更新一次指定任务的代码，而不是重复代码块的每个实例。\n",
    "\n",
    "虽然有许多提高效率和消除代码重复的策略，但三种常用的 DRY 策略是**条件语句**、**循环**和**函数**。本课程介绍**Python**中的**条件语句**，它可以通过**仅在满足某些条件时**执行代码来控制代码的流动。"
   ]
  },
  {
   "cell_type": "markdown",
   "id": "a9126811-12ca-475d-9700-62ed225cb79b",
   "metadata": {},
   "source": [
    "## 1. 条件语句的结构\n",
    "\n",
    "条件语句使用基于`if`和`else`语句（每个以冒号结尾`:`）的语法结构，这些语句定义了可以根据条件是否为真来完成的潜在操作。如果语句满足提供的条件`if`（即结果为`True`），则将执行特定代码。如果不满足该条件（即结果为`False`），则将执行`else`语句提供的代码，例如："
   ]
  },
  {
   "cell_type": "markdown",
   "id": "66f99fcb-f2a5-414e-b06f-2b0a39152fbf",
   "metadata": {},
   "source": [
    "```Python\n",
    "if condition:\n",
    "    print(\"Condition is true, and this statement is printed.\")    \n",
    "else:\n",
    "    print(\"Condition is false (i.e. not true), so a different statement is printed.\")\n",
    "```"
   ]
  },
  {
   "cell_type": "markdown",
   "id": "c589af5b-502f-4f9c-8597-7a93eca72483",
   "metadata": {},
   "source": [
    "**注：** `if`和`else`下的代码是**必须**有缩进的，输入`:`回车会自动缩进"
   ]
  },
  {
   "cell_type": "markdown",
   "id": "128c0beb-24b8-4f57-bd6d-eb3688761af2",
   "metadata": {},
   "source": [
    "## 2. 使用条件语句比较数值\n",
    "\n",
    "我们可以编写使用比较运算符（例如等于`==`、`<`、`>`）的条件语句来检查变量的值与其他值或变量。\n",
    "\n",
    "例如，可以检查变量的值是否等于 (`==`) 某个值。"
   ]
  },
  {
   "cell_type": "code",
   "execution_count": 1,
   "id": "3cbc2493-61e6-4904-b5a2-69365bab2de2",
   "metadata": {},
   "outputs": [
    {
     "name": "stdout",
     "output_type": "stream",
     "text": [
      "x is equal to 10.\n"
     ]
    }
   ],
   "source": [
    "#Set x to 10\n",
    "x = 10\n",
    "#Compare x to 10\n",
    "if x == 10:\n",
    "    print(\"x is equal to 10.\")       \n",
    "else:\n",
    "    print(\"x has a value of\", x, \"which is not equal to 10.\")   "
   ]
  },
  {
   "cell_type": "code",
   "execution_count": 2,
   "id": "2f438cf7-6b98-4d19-a7cd-7e2fcd324bae",
   "metadata": {},
   "outputs": [
    {
     "name": "stdout",
     "output_type": "stream",
     "text": [
      "x has a value of 0 which is not equal to 10.\n"
     ]
    }
   ],
   "source": [
    "#Set x to 0\n",
    "x = 0\n",
    "#Compare x to 10\n",
    "if x == 10:\n",
    "    print(\"x is equal to 10.\")     \n",
    "else:\n",
    "    print(\"x has a value of\", x, \"which is not equal to 10.\")    "
   ]
  },
  {
   "cell_type": "markdown",
   "id": "ed5e7bc6-baf4-4f6d-ac93-f1eb40125c87",
   "metadata": {},
   "source": [
    "## 3. 使用条件语句检查值\n",
    "\n",
    "可以使用成员运算符（例如`in`或`not in`）编写条件语句来检查某些值是否包含在数据结构中，例如列表，甚至是文本字符串。"
   ]
  },
  {
   "cell_type": "code",
   "execution_count": 3,
   "id": "ba62dc28-3a83-4ffd-a69a-4b44df78f2d0",
   "metadata": {},
   "outputs": [
    {
     "name": "stdout",
     "output_type": "stream",
     "text": [
      "Value is in list.\n"
     ]
    }
   ],
   "source": [
    "#Create list of average monthly precip (inches) in Boulder, CO\n",
    "avg_monthly_precip = [0.70,  0.75, 1.85, 2.93, 3.05, 2.02, \n",
    "                      1.93, 1.62, 1.84, 1.31, 1.39, 0.84]\n",
    "#Check for value 0.70 in list\n",
    "if 0.70 in avg_monthly_precip:\n",
    "    print(\"Value is in list.\")    \n",
    "else:     \n",
    "    print(\"Value is not in list.\")"
   ]
  },
  {
   "cell_type": "code",
   "execution_count": 4,
   "id": "63d15b32-1408-4297-9da4-729f0b14c442",
   "metadata": {},
   "outputs": [
    {
     "name": "stdout",
     "output_type": "stream",
     "text": [
      "Value is not in list.\n"
     ]
    }
   ],
   "source": [
    "#Check for value 0.71 in list\n",
    "if 0.71 in avg_monthly_precip:\n",
    "    print(\"Value is in list.\")    \n",
    "else:     \n",
    "    print(\"Value is not in list.\")"
   ]
  },
  {
   "cell_type": "markdown",
   "id": "0af45413-480d-445c-8076-0f340ac7d06d",
   "metadata": {},
   "source": [
    "**使用`not in`以检查该值是否不在列表中：**"
   ]
  },
  {
   "cell_type": "code",
   "execution_count": 5,
   "id": "491fe812-cc67-4437-ad3b-2eba89fa15bf",
   "metadata": {},
   "outputs": [
    {
     "name": "stdout",
     "output_type": "stream",
     "text": [
      "Value is not in list.\n"
     ]
    }
   ],
   "source": [
    "#Check that value 0.71 not in list\n",
    "if 0.71 not in avg_monthly_precip:\n",
    "    print(\"Value is not in list.\")    \n",
    "else:     \n",
    "    print(\"Value is in list.\")"
   ]
  },
  {
   "cell_type": "markdown",
   "id": "9f1a27a7-4847-4ee4-a9b9-8e33efed5f1f",
   "metadata": {},
   "source": [
    "**还可以使用成员运算符来检查文本字符串中的特定单词:**"
   ]
  },
  {
   "cell_type": "code",
   "execution_count": 6,
   "id": "bfc0f5bc-31f8-480d-99ed-4b5c82de3e54",
   "metadata": {},
   "outputs": [
    {
     "name": "stdout",
     "output_type": "stream",
     "text": [
      "This textstring does not contain the word precip.\n"
     ]
    }
   ],
   "source": [
    "#Check for string \"precip\" within text string \"avg_monthly_temp\"\n",
    "if \"precip\" in \"avg_monthly_temp\":\n",
    "    print(\"This textstring contains the word precip.\")    \n",
    "else:\n",
    "    print(\"This textstring does not contain the word precip.\")"
   ]
  },
  {
   "cell_type": "markdown",
   "id": "4b97938e-676a-422a-bcc1-b07c287a7a50",
   "metadata": {},
   "source": [
    "## 4. 使用条件语句检查对象类型\n",
    "\n",
    "还可以使用标识运算符（例如`is`或`is not`）编写条件语句来检查对象是否属于某种类型（例如`int`、`str`、`list`）"
   ]
  },
  {
   "cell_type": "code",
   "execution_count": 7,
   "id": "0d18fb10-0e7b-4f5d-b015-1c13d63ee32b",
   "metadata": {},
   "outputs": [
    {
     "name": "stdout",
     "output_type": "stream",
     "text": [
      "0 is an integer.\n"
     ]
    }
   ],
   "source": [
    "#Set x to 0\n",
    "x = 0\n",
    "#Check if x is type integer\n",
    "if type(x) is int:\n",
    "    print(x, \"is an integer.\")   \n",
    "else:\n",
    "    print(x, \"is not an integer.\")"
   ]
  },
  {
   "cell_type": "code",
   "execution_count": 8,
   "id": "54103876-a2cd-4c5b-8fc7-b2be8f5f82d0",
   "metadata": {},
   "outputs": [
    {
     "name": "stdout",
     "output_type": "stream",
     "text": [
      "0 is not a string.\n"
     ]
    }
   ],
   "source": [
    "#Check if x is not type string\n",
    "if type(x) is not str:\n",
    "    print(x, \"is not a string.\")    \n",
    "else:\n",
    "    print(x, \"is a string.\")"
   ]
  },
  {
   "cell_type": "code",
   "execution_count": 9,
   "id": "96932766-9445-49ba-ac6a-7c0da9c88806",
   "metadata": {},
   "outputs": [
    {
     "name": "stdout",
     "output_type": "stream",
     "text": [
      "Object is a list.\n"
     ]
    }
   ],
   "source": [
    "#Create list of abbreviated month names\n",
    "months = [\"Jan\", \"Feb\", \"Mar\", \"Apr\", \"May\", \"June\",\n",
    "         \"July\", \"Aug\", \"Sept\", \"Oct\", \"Nov\", \"Dec\"]\n",
    "if type(months) is list:\n",
    "    print(\"Object is a list.\")    \n",
    "else:\n",
    "    print(\"Object is not a list.\")"
   ]
  },
  {
   "cell_type": "markdown",
   "id": "9c57bd75-f8d4-4c50-902f-872efd6a80c2",
   "metadata": {},
   "source": [
    "## 5. 具有替代条件的条件语句\n",
    "\n",
    "我们可以扩展`if`语法，使用替代条件`elif` 。不满足`if`语句提供的第一个条件（即结果为False），**Python**则将检查`elif`语句提供的条件。如果`elif`满足条件，那么提供的代码将执行。如果既不满足`if`也不满足`elif`条件，则将执行`else`提供的代码。"
   ]
  },
  {
   "cell_type": "markdown",
   "id": "5f05f1b5-b7ee-449e-b932-6d46a249e69c",
   "metadata": {},
   "source": [
    "```Python\n",
    "if condition:\n",
    "    print(\"First condition is true.\")    \n",
    "elif alternative_condition:\n",
    "    print(\"First condition is not true but alternative condition is true.\")    \n",
    "else:\n",
    "    print(\"Neither of these conditions is true, so this statement is printed.\")\n",
    "```"
   ]
  },
  {
   "cell_type": "markdown",
   "id": "90fb57db-f534-4675-904f-9b060fefadb5",
   "metadata": {},
   "source": [
    "**示例：**"
   ]
  },
  {
   "cell_type": "code",
   "execution_count": 10,
   "id": "bff3b0f5-14a3-4ed2-aaac-01a2af46413e",
   "metadata": {},
   "outputs": [
    {
     "name": "stdout",
     "output_type": "stream",
     "text": [
      "x started with value of 5\n",
      "It now has a value of 10 which is equal to y.\n"
     ]
    }
   ],
   "source": [
    "#Set x equal to 5 and y equal to 10\n",
    "x = 5\n",
    "y = 10\n",
    "#Execute code based on comparison of x to y\n",
    "if x < y:\n",
    "    print(\"x started with value of\", x)    \n",
    "    x += 5    \n",
    "    print(\"It now has a value of\", x, \"which is equal to y.\")\n",
    "elif x > y:\n",
    "    print(\"x started with value of\", x)    \n",
    "    x -= 5    \n",
    "    print(\"It now has a value of\", x, \"which is equal to y.\")\n",
    "else:\n",
    "    print(\"x started with a value of\", x, \"which is already equal to y.\")"
   ]
  },
  {
   "cell_type": "markdown",
   "id": "e2d149d5-37d7-4ebb-bcad-4fa07985990d",
   "metadata": {},
   "source": [
    "同时我们还可以将`elif`语法应用于使用其他运算符或检查文本字符串或对象的值的结构条件语句。"
   ]
  },
  {
   "cell_type": "markdown",
   "id": "1e5ef599-d893-4416-9ae9-03ba295a04b2",
   "metadata": {},
   "source": [
    "## 6. 条件组合的条件语句\n",
    "\n",
    "逻辑运算符（例如`and`, `or`, `not`）允许我们创建可以检查条件组合的条件语句：\n",
    "\n",
    "- `and`如果满足**所有**指定条件，则执行代码\n",
    "- `or`如果**至少满足一个**指定条件，则执行代码\n",
    "- `not`仅在指定条件**不满足**时才执行代码（`not`可以和`and`或者`or`结合使用来检查是否不满足多个条件）\n",
    "\n",
    "### 1. 使用and检查两个条件"
   ]
  },
  {
   "cell_type": "code",
   "execution_count": 11,
   "id": "1b1d036a-ab68-4331-ade5-72028aad08dd",
   "metadata": {},
   "outputs": [
    {
     "name": "stdout",
     "output_type": "stream",
     "text": [
      "15\n"
     ]
    }
   ],
   "source": [
    "#Set x equal to 5 and y equal to 10\n",
    "x = 5\n",
    "y = 10\n",
    "#Add x and y if they are both integers\n",
    "if type(x) is int and type(y) is int:\n",
    "    print(x + y)    \n",
    "else:\n",
    "    print(\"Either x or y is not an integer.\")"
   ]
  },
  {
   "cell_type": "markdown",
   "id": "34083bd8-b364-42f1-ab9e-dbf865cbb328",
   "metadata": {},
   "source": [
    "### 2. 使用or检查至少一个条件"
   ]
  },
  {
   "cell_type": "code",
   "execution_count": 12,
   "id": "bdd55771-ad02-44be-83b8-cce5aab965fe",
   "metadata": {},
   "outputs": [
    {
     "name": "stdout",
     "output_type": "stream",
     "text": [
      "Either x or y is equal to 0.\n",
      "x is now 1 and y is now 11\n"
     ]
    }
   ],
   "source": [
    "#Set x equal to 0 and y equal to 10\n",
    "x = 0\n",
    "y = 10\n",
    "#Check whether either is equal to zero\n",
    "if x == 0 or y == 0:\n",
    "    print(\"Either x or y is equal to 0.\")    \n",
    "    x += 1    \n",
    "    y += 1    \n",
    "    print(\"x is now\", x, \"and y is now\", y)\n",
    "else:\n",
    "    print(\"Neither x nor y is equal to 0.\")"
   ]
  }
 ],
 "metadata": {
  "kernelspec": {
   "display_name": "Python 3 (ipykernel)",
   "language": "python",
   "name": "python3"
  },
  "language_info": {
   "codemirror_mode": {
    "name": "ipython",
    "version": 3
   },
   "file_extension": ".py",
   "mimetype": "text/x-python",
   "name": "python",
   "nbconvert_exporter": "python",
   "pygments_lexer": "ipython3",
   "version": "3.9.7"
  }
 },
 "nbformat": 4,
 "nbformat_minor": 5
}

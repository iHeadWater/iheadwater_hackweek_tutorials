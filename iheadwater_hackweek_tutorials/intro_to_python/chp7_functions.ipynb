{
 "cells": [
  {
   "cell_type": "markdown",
   "id": "5a0485cc-815e-4442-a507-53b398e64396",
   "metadata": {},
   "source": [
    "# 函数\n",
    "\n",
    "前面的章节中，我们学习了如何使用条件结构来控制代码流，以及如何使用循环来消除重复的代码行。在第7课中，将学习在**Python**中编写函数以帮助我们执行特定任务。\n",
    "\n",
    "一个函数是一个可重复使用的代码块，用于执行一项特定的任务。函数接收应用代码的输入，并返回代码的输出（或结果）。\n",
    "\n",
    "`input parameter –> function does something –> output results`\n",
    "\n",
    "函数可以通过模块化帮助消除重复并提高代码效率。模块化意味着代码被分成独立的单元，这些单元可以重复使用，甚至可以组合起来完成更长的任务链。"
   ]
  },
  {
   "cell_type": "markdown",
   "id": "e2f472ea-d347-4207-bbc1-4a963818ee0e",
   "metadata": {},
   "source": [
    "## 1. 模块化函数和代码\n",
    "\n",
    "以**numpy**函数`mean()`为例，它从一个**numpy**数组中计算出平均值。\n",
    "\n",
    "这个函数只做一件事（即计算平均值）。但是，我们可以在代码中多次使用`np.mean()`函数来处理多个**numpy**数组，因为它已经被定义为接受任何**numpy**数组作为输入。"
   ]
  },
  {
   "cell_type": "code",
   "execution_count": 15,
   "id": "83266ad3-dfc5-46ba-9094-cbcdddf68e9c",
   "metadata": {},
   "outputs": [
    {
     "name": "stdout",
     "output_type": "stream",
     "text": [
      "6\n",
      "mean =  2.0\n"
     ]
    }
   ],
   "source": [
    "num_list = [1,2,3]\n",
    "#For each item in list, add 10 and print new value\n",
    "for i in num_list:\n",
    "    i += i\n",
    "print(i)\n",
    "print(\"mean = \",i/3)"
   ]
  },
  {
   "cell_type": "code",
   "execution_count": 16,
   "id": "345bd9dd-b0a8-4915-998e-1d8bfe5d8527",
   "metadata": {},
   "outputs": [
    {
     "data": {
      "text/plain": [
       "2.0"
      ]
     },
     "execution_count": 16,
     "metadata": {},
     "output_type": "execute_result"
    }
   ],
   "source": [
    "import numpy as np\n",
    "arr = np.array([1, 2, 3])\n",
    "np.mean(arr)"
   ]
  },
  {
   "cell_type": "markdown",
   "id": "42039b0a-6a0c-42ce-9e44-e06761256079",
   "metadata": {},
   "source": [
    "该`np.mean()`功能是模块化的，它可以很容易地与其他功能组合以完成各种任务。\n",
    "\n",
    "## 2. 函数提高代码可读性的原因\n",
    "\n",
    "### 2.1 函数可以带来更好的文档\n",
    "\n",
    "写得好的函数可以帮助记录工作流程，因为：\n",
    "\n",
    "- 它们通过清楚地勾勒出**输入**和**输出**而得到良好的记录。\n",
    "- 它们使用**描述性的名称**，帮助理解函数所执行的任务。\n",
    "\n",
    "### 2.2 富有表现力的函数名称使代码具有自我描述性\n",
    "\n",
    "在编写函数时，我们应该用动词或清晰的标签来命名函数，以表明该函数的作用（例如，`in_to_mm`用于将英寸转换为毫米）。这使代码更有表现力（或自我描述），反过来，未来的自己和同事更容易阅读。\n",
    "\n",
    "### 2.3 模块化代码更容易维护和编辑\n",
    "\n",
    "如果所有的代码都是一行一行地写的（在文件的多个部分都有重复的代码），那么维护和编辑起来就很有挑战性。\n",
    "\n",
    "也可能在重复代码的地方重复注释。那么，如何使重复的注释保持同步？\n",
    "\n",
    "一个因为代码改变而被误导的注释，实际上比没有注释更糟糕。\n",
    "\n",
    "从一开始就用函数来组织代码，可以明确地记录代码所执行的任务，因为函数的所有代码和文档都包含在函数定义中。\n",
    "\n",
    "### 2.4 结合测试来确保代码的正常运行\n",
    "\n",
    "虽然不会在本章中学习测试，但请注意，函数对测试也非常有用。\n",
    "\n",
    "随着代码越来越长，越来越复杂，它就更容易出错。例如，如果分析依赖于经常被更新的数据，可能想在进行分析之前确保电子表格中的所有列都存在。或者，新的数据没有以不同的方式进行格式化。\n",
    "\n",
    "如果所有代码都是由函数组成的（有内置的测试来确保它们按预期运行），那么我们可以控制函数的输入，并测试返回的输出对该输入是否正确。如果所有代码都是一行一行地重复编写，这是很难做到的。\n",
    "\n",
    "## 3. 定义函数\n",
    "\n",
    "在**Python**中定义一个函数需要几个组件，包括`def`关键字、函数名、参数（输入）和`return`指定函数输出的语句。"
   ]
  },
  {
   "cell_type": "markdown",
   "id": "1906d9b1-2b96-4b3e-8cad-5fbea8e2bb02",
   "metadata": {},
   "source": [
    "```Python\n",
    "def function_name(parameter):\n",
    "\n",
    "    some code here    \n",
    "    \n",
    "    return output\n",
    "```"
   ]
  },
  {
   "cell_type": "markdown",
   "id": "05525ac5-76a3-42f6-b790-980d2122c124",
   "metadata": {},
   "source": [
    "### 3.1 def 关键字和函数名\n",
    "\n",
    "在**Python**中，函数定义以关键字开头，`def`表示新函数定义的开始，此关键字后跟函数名称，函数名是要调用函数时使用的名称（例如`print()`）\n",
    "\n",
    "`def function_name():`\n",
    "\n",
    "### 3.2 输入参数\n",
    "\n",
    "输入参数是传递给函数以使其成功运行所需的信息。该函数将提供的值或对象作为输入参数并使用它来执行某些任务。\n",
    "\n",
    "在**Python**中，所需的参数在括号内提供`()`，如下所示:\n",
    "\n",
    "`def function_name(parameter):`\n",
    "\n",
    "也可以使用占位符变量为函数定义输入参数，例如`data`，它表示将在函数中执行的值或对象。\n",
    "\n",
    "`def function_name(data):`\n",
    "\n",
    "同时**Python**中的函数可以根据需要使用多个输入参数来定义：\n",
    "\n",
    "`def function_name(arr_1, arr_2):`\n",
    "\n",
    "### 3.3 return\n",
    "\n",
    "在Python中，函数定义需要一个**返回语句**来指定将由函数返回的**输出**。"
   ]
  },
  {
   "cell_type": "markdown",
   "id": "7e4260ef-0d89-43ad-b151-bbfdd2cd747c",
   "metadata": {},
   "source": [
    "```Python\n",
    "def function_name(data):\n",
    "    some code here        \n",
    "    return output\n",
    "```\n",
    "\n",
    "就像循环和条件语句一样，由函数执行的代码行，包括`return`语句，都在冒号后的新行中提供：并缩进一次以表示它们是函数的一部分。\n",
    "\n",
    "`return`语句可以返回一个或多个值或对象，并且可以根据需要在多行代码之后完成任务（即创建将由函数返回的输出的代码）\n",
    "\n",
    "### 3.4 Docstring 文档字符串\n",
    "\n",
    "在**Python**中，函数还应该包含一个文档字符串，或者一个多行的文档注释，提供关于函数的细节，包括输入参数和返回的具体情况（例如对象的类型，额外的描述）以及关于如何使用该函数的任何其他重要文档。三个双引号`\"\"\"`后就是文档字符串的内容，**Python**是不会运行文档字符串的。\n",
    "\n",
    "```Python\n",
    "def function_name(data):\n",
    "\n",
    "    \"\"\"Docstrings should include a description of the function here \n",
    "    as well as identify the parameters (inputs) that the function \n",
    "    can take and the return (output) provided by the function,\n",
    "    as shown below. \n",
    "    \n",
    "    Parameters\n",
    "    ----------\n",
    "    input : type\n",
    "    \n",
    "        Description of input.\n",
    "    \n",
    "    Returns\n",
    "    ------\n",
    "    output : type\n",
    "    \n",
    "        Description of output.\n",
    "    \"\"\"\n",
    "    some code here\n",
    "    \n",
    "    return output\n",
    "```\n",
    "\n",
    "根据以上函数的组成，写一组函数，例如"
   ]
  },
  {
   "cell_type": "code",
   "execution_count": 3,
   "id": "0604ac3f-24f8-41bf-8214-ec3c2d8564dd",
   "metadata": {},
   "outputs": [],
   "source": [
    "def mm_to_in(mm):\n",
    "\n",
    "    \"\"\"Convert input from millimeters to inches. \n",
    "    \n",
    "    Parameters\n",
    "    ----------\n",
    "     mm : int or float\n",
    "     \n",
    "        Numeric value with units in millimeters.\n",
    "    \n",
    "    Returns\n",
    "    ------\n",
    "    output : int or float\n",
    "    \n",
    "        Numeric value with units in inches.\n",
    "    \"\"\"\n",
    "    inches = mm / 25.4  \n",
    "    \n",
    "    return inches"
   ]
  },
  {
   "cell_type": "markdown",
   "id": "61eff23b-d2db-42fd-ace2-be924794bab9",
   "metadata": {},
   "source": [
    "\n",
    "`mm`是输入的占位符变量，`inches`是函数输出的占位符变量。\n",
    "\n",
    "## 4. 在 Python 中调用自定义的函数\n",
    "\n",
    "现在我们已经定义了函数`mm_to_in()`，我们可以根据需要调用它来转换单位。指定了一个单值变量，在函数中用`mm`表示。"
   ]
  },
  {
   "cell_type": "code",
   "execution_count": 4,
   "id": "a0b282eb-6f3a-4e38-9820-9421374fc491",
   "metadata": {},
   "outputs": [
    {
     "data": {
      "text/plain": [
       "0.7000000000000001"
      ]
     },
     "execution_count": 4,
     "metadata": {},
     "output_type": "execute_result"
    }
   ],
   "source": [
    "#Average monthly precip (mm) in Jan for Boulder, CO\n",
    "precip_jan_mm = 17.78\n",
    "#Convert to inches\n",
    "mm_to_in(mm = precip_jan_mm)"
   ]
  },
  {
   "cell_type": "markdown",
   "id": "c6ee09b3-a2e6-4903-989f-5cc941459c1a",
   "metadata": {},
   "source": [
    "我们可以创建一个新变量来存储函数的输出，如下所示："
   ]
  },
  {
   "cell_type": "code",
   "execution_count": 5,
   "id": "1ba68372-2c91-4992-a649-c59588683b81",
   "metadata": {},
   "outputs": [
    {
     "data": {
      "text/plain": [
       "0.7000000000000001"
      ]
     },
     "execution_count": 5,
     "metadata": {},
     "output_type": "execute_result"
    }
   ],
   "source": [
    "#Create new variable with converted values\n",
    "precip_jan_in = mm_to_in(mm = precip_jan_mm)\n",
    "\n",
    "precip_jan_in"
   ]
  },
  {
   "cell_type": "markdown",
   "id": "8301032d-95b9-441d-a871-4edaf44e54f1",
   "metadata": {},
   "source": [
    "在函数之外调用这些占位符变量（例如mm或inches），就会收到错误消息。例如，下面的代码："
   ]
  },
  {
   "cell_type": "code",
   "execution_count": 6,
   "id": "a60b167e-4692-40ac-9251-bf8d46aeaf14",
   "metadata": {},
   "outputs": [
    {
     "ename": "NameError",
     "evalue": "name 'inches' is not defined",
     "output_type": "error",
     "traceback": [
      "\u001b[1;31m---------------------------------------------------------------------------\u001b[0m",
      "\u001b[1;31mNameError\u001b[0m                                 Traceback (most recent call last)",
      "\u001b[1;32m~\\AppData\\Local\\Temp/ipykernel_9980/3922438481.py\u001b[0m in \u001b[0;36m<module>\u001b[1;34m\u001b[0m\n\u001b[1;32m----> 1\u001b[1;33m \u001b[0mprint\u001b[0m\u001b[1;33m(\u001b[0m\u001b[0minches\u001b[0m\u001b[1;33m)\u001b[0m\u001b[1;33m\u001b[0m\u001b[1;33m\u001b[0m\u001b[0m\n\u001b[0m",
      "\u001b[1;31mNameError\u001b[0m: name 'inches' is not defined"
     ]
    }
   ],
   "source": [
    "print(inches)"
   ]
  },
  {
   "cell_type": "markdown",
   "id": "4affedc9-7604-4d5d-9dda-f97145debf79",
   "metadata": {},
   "source": [
    "## 5. 在 Python 编写具有多个参数的函数并调用\n",
    "\n",
    "与单个参数无太大区别，以下代码供大家参考理解"
   ]
  },
  {
   "cell_type": "code",
   "execution_count": 7,
   "id": "fb17806d-39b1-46ad-9c0b-2b4a761d3c80",
   "metadata": {},
   "outputs": [
    {
     "data": {
      "text/plain": [
       "17.779999999999998"
      ]
     },
     "execution_count": 7,
     "metadata": {},
     "output_type": "execute_result"
    }
   ],
   "source": [
    "def multiply_values(x,y):\n",
    "\n",
    "    \"\"\"Calculate product of two inputs. \n",
    "    \n",
    "    Parameters\n",
    "    ----------\n",
    "    x : int or float\n",
    "    \n",
    "    y : int or float\n",
    "\n",
    "    Returns\n",
    "    ------\n",
    "    z : int or float\n",
    "    \"\"\"\n",
    "    z = x * y\n",
    "    \n",
    "    return z\n",
    "    \n",
    "multiply_values(x = 0.7, y = 25.4)"
   ]
  },
  {
   "cell_type": "code",
   "execution_count": 8,
   "id": "35cb9c1c-2b2c-42a7-8621-bbadafceb094",
   "metadata": {},
   "outputs": [
    {
     "data": {
      "text/plain": [
       "17.779999999999998"
      ]
     },
     "execution_count": 8,
     "metadata": {},
     "output_type": "execute_result"
    }
   ],
   "source": [
    "precip_jan_in = 0.7\n",
    "\n",
    "to_mm = 25.4\n",
    "\n",
    "precip_jan_mm = multiply_values(x = precip_jan_in, y = to_mm)\n",
    "\n",
    "precip_jan_mm"
   ]
  }
 ],
 "metadata": {
  "kernelspec": {
   "display_name": "Python (tutorial)",
   "language": "python",
   "name": "tutorial"
  },
  "language_info": {
   "codemirror_mode": {
    "name": "ipython",
    "version": 3
   },
   "file_extension": ".py",
   "mimetype": "text/x-python",
   "name": "python",
   "nbconvert_exporter": "python",
   "pygments_lexer": "ipython3",
   "version": "3.9.13"
  }
 },
 "nbformat": 4,
 "nbformat_minor": 5
}
